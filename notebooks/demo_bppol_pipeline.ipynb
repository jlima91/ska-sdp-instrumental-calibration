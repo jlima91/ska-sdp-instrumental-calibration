{
 "cells": [
  {
   "cell_type": "markdown",
   "id": "130af4f4-c02d-48af-96c1-8511281c377c",
   "metadata": {},
   "source": [
    "This notebook runs a pipeline with the following steps:\n",
    "* Create a test Visibility dataset.\n",
    "   * No visibility sample noise. Just testing that things are working exactly as expected.\n",
    "   * Using the GLEAM sky model with station-dependent Faraday rotation and everybeam station beam models.\n",
    "   * Add complex Gaussian noise corruptions to station gains and leakage.\n",
    "   * Write to disk in MSv2 format.\n",
    "* Read MSv2 data into Visibility dataset.$^{*}$\n",
    "* Predict model visibilities (using GLEAM and everybeam).$^{*}$\n",
    "* Do polarised bandpass calibration.$^{*}$\n",
    "* Fit for the  $\\lambda^{2}$-dependent rotation of each station.\n",
    "* Redo predict with RM estimates.$^{*}$\n",
    "* Redo polarised bandpass calibration.$^{*}$\n",
    "* Check for convergence.\n",
    "\n",
    "\\* xarray dataset map_blocks() is used to distribute frequency sub-bands across dask tasks."
   ]
  },
  {
   "cell_type": "code",
   "execution_count": 1,
   "id": "32e41c12-6fc8-4427-9f4c-d2f441bca880",
   "metadata": {},
   "outputs": [
    {
     "name": "stderr",
     "output_type": "stream",
     "text": [
      "<frozen abc>:106: FutureWarning: xarray subclass Visibility should explicitly define __slots__\n"
     ]
    }
   ],
   "source": [
    "from time import perf_counter\n",
    "\n",
    "from IPython.display import Image\n",
    "\n",
    "from ska_sdp_instrumental_calibration.workflow.pipelines import (\n",
    "    bandpass_polarisation,\n",
    ")"
   ]
  },
  {
   "cell_type": "code",
   "execution_count": null,
   "id": "21d146aa-b960-4cfe-9e4e-29740a412a0c",
   "metadata": {},
   "outputs": [
    {
     "name": "stderr",
     "output_type": "stream",
     "text": [
      "2025-05-16 10:54:50,095 - workflow.pipeline_config - INFO - Simulating demo MSv2 input\n"
     ]
    },
    {
     "name": "stdout",
     "output_type": "stream",
     "text": [
      "1|2025-05-16T00:54:50.095Z|INFO|MainThread|__init__|pipeline_config.py#130||Simulating demo MSv2 input\n"
     ]
    },
    {
     "name": "stderr",
     "output_type": "stream",
     "text": [
      "2025-05-16 10:54:50,099 - workflow.pipeline_config - INFO - Initialising the EveryBeam telescope model with /data/EOS_1/mit183/SKA/SP-4626/OSKAR_MOCK.ms\n"
     ]
    },
    {
     "name": "stdout",
     "output_type": "stream",
     "text": [
      "1|2025-05-16T00:54:50.099Z|INFO|MainThread|__init__|pipeline_config.py#185||Initialising the EveryBeam telescope model with /data/EOS_1/mit183/SKA/SP-4626/OSKAR_MOCK.ms\n"
     ]
    },
    {
     "name": "stderr",
     "output_type": "stream",
     "text": [
      "2025-05-16 10:54:50,101 - workflow.pipeline_config - INFO - Generating a demo MSv2 Measurement Set demo.ms\n"
     ]
    },
    {
     "name": "stdout",
     "output_type": "stream",
     "text": [
      "1|2025-05-16T00:54:50.101Z|INFO|MainThread|simulate_input_dataset|pipeline_config.py#201||Generating a demo MSv2 Measurement Set demo.ms\n"
     ]
    },
    {
     "name": "stderr",
     "output_type": "stream",
     "text": [
      "2025-05-16 10:54:50,104 - workflow.pipeline_config - INFO - Generating LSM for simulation with:\n"
     ]
    },
    {
     "name": "stdout",
     "output_type": "stream",
     "text": [
      "1|2025-05-16T00:54:50.104Z|INFO|MainThread|simulate_input_dataset|pipeline_config.py#208||Generating LSM for simulation with:\n"
     ]
    },
    {
     "name": "stderr",
     "output_type": "stream",
     "text": [
      "2025-05-16 10:54:50,106 - workflow.pipeline_config - INFO -  - Search radius: 5.0 deg\n"
     ]
    },
    {
     "name": "stdout",
     "output_type": "stream",
     "text": [
      "1|2025-05-16T00:54:50.106Z|INFO|MainThread|simulate_input_dataset|pipeline_config.py#209|| - Search radius: 5.0 deg\n"
     ]
    },
    {
     "name": "stderr",
     "output_type": "stream",
     "text": [
      "2025-05-16 10:54:50,107 - workflow.pipeline_config - INFO -  - Flux limit: 1 Jy\n"
     ]
    },
    {
     "name": "stdout",
     "output_type": "stream",
     "text": [
      "1|2025-05-16T00:54:50.107Z|INFO|MainThread|simulate_input_dataset|pipeline_config.py#210|| - Flux limit: 1 Jy\n"
     ]
    },
    {
     "name": "stderr",
     "output_type": "stream",
     "text": [
      "2025-05-16 10:54:50,109 - workflow.pipeline_config - INFO -  - GLEAMEGC file: /data/EOS_1/mit183/gleamegc.dat\n"
     ]
    },
    {
     "name": "stdout",
     "output_type": "stream",
     "text": [
      "1|2025-05-16T00:54:50.109Z|INFO|MainThread|simulate_input_dataset|pipeline_config.py#212|| - GLEAMEGC file: /data/EOS_1/mit183/gleamegc.dat\n"
     ]
    },
    {
     "name": "stderr",
     "output_type": "stream",
     "text": [
      "2025-05-16 10:54:50,713 - processing_tasks.lsm - INFO - extracted 37 GLEAM components\n"
     ]
    },
    {
     "name": "stdout",
     "output_type": "stream",
     "text": [
      "1|2025-05-16T00:54:50.713Z|INFO|MainThread|generate_lsm_from_gleamegc|lsm.py#266||extracted 37 GLEAM components\n"
     ]
    },
    {
     "name": "stderr",
     "output_type": "stream",
     "text": [
      "2025-05-16 10:54:50,714 - workflow.pipeline_config - INFO - LSM contains 37 components\n"
     ]
    },
    {
     "name": "stdout",
     "output_type": "stream",
     "text": [
      "1|2025-05-16T00:54:50.714Z|INFO|MainThread|simulate_input_dataset|pipeline_config.py#231||LSM contains 37 components\n"
     ]
    },
    {
     "name": "stderr",
     "output_type": "stream",
     "text": [
      "2025-05-16 10:54:50,736 - workflow.utils - INFO - Using AA1-Low with 20 stations\n"
     ]
    },
    {
     "name": "stdout",
     "output_type": "stream",
     "text": [
      "1|2025-05-16T00:54:50.736Z|INFO|MainThread|create_demo_ms|utils.py#167||Using AA1-Low with 20 stations\n"
     ]
    },
    {
     "name": "stderr",
     "output_type": "stream",
     "text": [
      "2025-05-16 10:54:51,333 - workflow.utils - INFO - Applying DI lambda^2-dependent rotations during predict\n"
     ]
    },
    {
     "name": "stdout",
     "output_type": "stream",
     "text": [
      "1|2025-05-16T00:54:51.333Z|INFO|MainThread|create_demo_ms|utils.py#200||Applying DI lambda^2-dependent rotations during predict\n"
     ]
    },
    {
     "name": "stderr",
     "output_type": "stream",
     "text": [
      "2025-05-16 10:54:51,335 - processing_tasks.predict - INFO - Using EveryBeam model in predict\n"
     ]
    },
    {
     "name": "stdout",
     "output_type": "stream",
     "text": [
      "1|2025-05-16T00:54:51.335Z|INFO|MainThread|predict_from_components|predict.py#169||Using EveryBeam model in predict\n",
      "1|2025-05-16T00:54:51.340Z|INFO|MainThread|__init__|beams.py#86||Initialising beams for Low\n",
      "1|2025-05-16T00:54:51.397Z|INFO|MainThread|__init__|beams.py#95||Setting beam normalisation for OSKAR data\n"
     ]
    },
    {
     "name": "stderr",
     "output_type": "stream",
     "text": [
      "2025-05-16 10:54:53,304 - workflow.utils - INFO - Applying direction-independent gain corruptions\n"
     ]
    },
    {
     "name": "stdout",
     "output_type": "stream",
     "text": [
      "1|2025-05-16T00:54:53.304Z|INFO|MainThread|create_demo_ms|utils.py#223||Applying direction-independent gain corruptions\n"
     ]
    },
    {
     "name": "stderr",
     "output_type": "stream",
     "text": [
      "2025-05-16 10:54:53,306 - workflow.utils - INFO - Applying direction-independent leakage corruptions\n"
     ]
    },
    {
     "name": "stdout",
     "output_type": "stream",
     "text": [
      "1|2025-05-16T00:54:53.306Z|INFO|MainThread|create_demo_ms|utils.py#236||Applying direction-independent leakage corruptions\n",
      "1|2025-05-16T00:54:53.772Z|INFO|MainThread|run|bandpass_polarisation.py#81||Starting pipeline with 16-channel chunks\n",
      "1|2025-05-16T00:54:53.773Z|INFO|MainThread|run|bandpass_polarisation.py#85||No dask cluster supplied. Using LocalCluster\n",
      "1|2025-05-16T00:54:55.602Z|INFO|MainThread|run|bandpass_polarisation.py#95||Generating LSM for predict with:\n",
      "1|2025-05-16T00:54:55.603Z|INFO|MainThread|run|bandpass_polarisation.py#96|| - Search radius: 5.0 deg\n",
      "1|2025-05-16T00:54:55.604Z|INFO|MainThread|run|bandpass_polarisation.py#97|| - Flux limit: 1 Jy\n",
      "1|2025-05-16T00:54:55.605Z|INFO|MainThread|run|bandpass_polarisation.py#99|| - GLEAMEGC catalogue file: /data/EOS_1/mit183/gleamegc.dat\n"
     ]
    },
    {
     "name": "stderr",
     "output_type": "stream",
     "text": [
      "2025-05-16 10:54:56,255 - processing_tasks.lsm - INFO - extracted 37 GLEAM components\n"
     ]
    },
    {
     "name": "stdout",
     "output_type": "stream",
     "text": [
      "1|2025-05-16T00:54:56.255Z|INFO|MainThread|generate_lsm_from_gleamegc|lsm.py#266||extracted 37 GLEAM components\n",
      "1|2025-05-16T00:54:56.256Z|INFO|MainThread|run|bandpass_polarisation.py#116||LSM contains 37 components\n",
      "1|2025-05-16T00:54:56.257Z|WARNING|MainThread|run|bandpass_polarisation.py#119||Not running end-to-end version.\n",
      "1|2025-05-16T00:54:56.258Z|INFO|MainThread|run|bandpass_polarisation.py#127||Will ingest demo.ms in 16-channel chunks\n",
      "1|2025-05-16T00:54:56.261Z|INFO|MainThread|create_visibility_from_ms|vis_io_ms.py#339||Reading uni. fields [0], uni. data descs [0]\n",
      "1|2025-05-16T00:54:56.386Z|INFO|MainThread|run|bandpass_polarisation.py#159||Setting vis predict in 16-channel chunks\n",
      "1|2025-05-16T00:54:56.444Z|INFO|MainThread|run|bandpass_polarisation.py#170||Setting calibration in 16-channel chunks\n",
      "1|2025-05-16T00:54:56.445Z|INFO|MainThread|run|bandpass_polarisation.py#171|| - Using solver jones_substitution\n",
      "1|2025-05-16T00:54:56.446Z|INFO|MainThread|run|bandpass_polarisation.py#172|| - Using niter=20 and tol=1e-4 for this initial run\n",
      "1|2025-05-16T00:54:56.688Z|INFO|MainThread|run|bandpass_polarisation.py#183||Running graph and returning calibration solutions\n"
     ]
    }
   ],
   "source": [
    "ddir = \"/data/EOS_1/mit183\"\n",
    "t0 = perf_counter()\n",
    "bandpass_polarisation.run(\n",
    "    {\n",
    "        # Required external data\n",
    "        \"gleamfile\": f\"{ddir}/gleamegc.dat\",\n",
    "        \"eb_ms\": f\"{ddir}/SKA/SP-4626/OSKAR_MOCK.ms\",\n",
    "        \"eb_coeffs\": f\"{ddir}/SKA/SP-4626/ska-sdp-func-everybeam/coeffs\",\n",
    "        # Other parameters\n",
    "        \"ms_name\": \"demo.ms\",\n",
    "        \"h5parm_name\": \"demo.h5\",\n",
    "        \"gains\": True,\n",
    "        \"leakage\": True,\n",
    "        \"rotation\": True,\n",
    "        \"wide_channels\": True,\n",
    "    }\n",
    ")\n",
    "print(f\"pipeline ran in {perf_counter() - t0:.1f} seconds\")"
   ]
  },
  {
   "cell_type": "code",
   "execution_count": null,
   "id": "12cc3f1a-c1f4-4f83-b0c1-5753530ac1d6",
   "metadata": {},
   "outputs": [],
   "source": [
    "Image(filename=\"rm-station.png\")"
   ]
  },
  {
   "cell_type": "code",
   "execution_count": null,
   "id": "2c9152f0-03d4-47a7-a0b2-cb4091fca2a2",
   "metadata": {},
   "outputs": [],
   "source": [
    "Image(filename=\"bandpass_stages.png\")"
   ]
  },
  {
   "cell_type": "code",
   "execution_count": null,
   "id": "885b993e-f068-44bb-b94d-8cd9b4d500e8",
   "metadata": {},
   "outputs": [],
   "source": []
  }
 ],
 "metadata": {
  "kernelspec": {
   "display_name": "Python 3 (ipykernel)",
   "language": "python",
   "name": "python3"
  },
  "language_info": {
   "codemirror_mode": {
    "name": "ipython",
    "version": 3
   },
   "file_extension": ".py",
   "mimetype": "text/x-python",
   "name": "python",
   "nbconvert_exporter": "python",
   "pygments_lexer": "ipython3",
   "version": "3.11.7"
  }
 },
 "nbformat": 4,
 "nbformat_minor": 5
}
