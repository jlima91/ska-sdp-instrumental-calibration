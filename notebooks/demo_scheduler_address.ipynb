{
 "cells": [
  {
   "cell_type": "markdown",
   "id": "98f58963-efb3-4025-898c-65f4c28a9685",
   "metadata": {},
   "source": [
    "This notebook runs a pipeline with the following steps:\n",
    "* Create a test Visibility dataset.\n",
    "   * No visibility sample noise. Just testing that things are working exactly as expected.\n",
    "   * Using the GLEAM sky model and a common everybeam station beam model.\n",
    "   * Add complex Gaussian noise corruptions to station Jones matrices.\n",
    "   * Write to disk in MSv2 format.\n",
    "* Read MSv2 data into Visibility dataset.$^{*}$\n",
    "* Predict model visibilities (using GLEAM and everybeam).$^{*}$\n",
    "* Do bandpass calibration.$^{*}$\n",
    "* Check for convergence.$^{*}$\n",
    "\n",
    "\\* xarray dataset map_blocks() is used to distribute frequency sub-bands across dask tasks.\n",
    "\n",
    "The pipeline is called once with only gain corruptions and a gain-only solver,\n",
    "then again with gain and leakage corruptions and a polarised solver."
   ]
  },
  {
   "cell_type": "code",
   "execution_count": 1,
   "id": "32e41c12-6fc8-4427-9f4c-d2f441bca880",
   "metadata": {},
   "outputs": [
    {
     "name": "stderr",
     "output_type": "stream",
     "text": [
      "<frozen abc>:106: FutureWarning: xarray subclass Visibility should explicitly define __slots__\n"
     ]
    }
   ],
   "source": [
    "from time import perf_counter\n",
    "\n",
    "from dask.distributed import LocalCluster\n",
    "from ska_sdp_instrumental_calibration.processing_tasks.lsm import Component\n",
    "from ska_sdp_instrumental_calibration.workflow.pipelines import (\n",
    "    bandpass_calibration,\n",
    ")"
   ]
  },
  {
   "cell_type": "code",
   "execution_count": 2,
   "id": "64240331-a7d1-4e7f-b02b-1139ca6e18ae",
   "metadata": {},
   "outputs": [
    {
     "name": "stderr",
     "output_type": "stream",
     "text": [
      "2024-12-17 19:38:43,948 - workflow.pipeline_config - INFO - Simulating demo MSv2 input\n",
      "2024-12-17 19:38:43,949 - workflow.pipeline_config - INFO - Predicting visibilities without a beam\n",
      "2024-12-17 19:38:43,950 - workflow.pipeline_config - INFO - Generating a demo MSv2 Measurement Set demo.ms\n",
      "2024-12-17 19:38:43,960 - workflow.utils - INFO - Using AA1-Low with 20 stations\n",
      "2024-12-17 19:38:44,533 - processing_tasks.predict - INFO - No beam model used in predict\n",
      "2024-12-17 19:38:44,660 - workflow.utils - INFO - Applying direction-independent gain corruptions\n",
      "2024-12-17 19:38:45,219 - pipeline.bandpass_calibration - INFO - Starting pipeline with 16-channel chunks\n",
      "2024-12-17 19:38:45,220 - pipeline.bandpass_calibration - INFO - No dask cluster supplied. Using LocalCluster\n",
      "2024-12-17 19:38:45,996 - pipeline.bandpass_calibration - INFO - Will read from demo.ms in 16-channel chunks\n",
      "2024-12-17 19:38:46,136 - pipeline.bandpass_calibration - INFO - Setting vis predict in 16-channel chunks\n",
      "2024-12-17 19:38:46,160 - pipeline.bandpass_calibration - INFO - Setting calibration in 16-channel chunks\n",
      "2024-12-17 19:38:46,212 - pipeline.bandpass_calibration - INFO - Running graph and returning calibration solutions\n",
      "<frozen abc>:106: FutureWarning: xarray subclass Visibility should explicitly define __slots__\n",
      "<frozen abc>:106: FutureWarning: xarray subclass Visibility should explicitly define __slots__\n",
      "<frozen abc>:106: FutureWarning: xarray subclass Visibility should explicitly define __slots__\n",
      "/u/mit183/.pyenv/versions/3.11.7/lib/python3.11/site-packages/ska_sdp_datamodels/visibility/vis_model.py:190: FutureWarning: the `pandas.MultiIndex` object(s) passed as 'baselines' coordinate(s) or data variable(s) will no longer be implicitly promoted and wrapped into multiple indexed coordinates in the future (i.e., one coordinate for each multi-index level + one dimension coordinate). If you want to keep this behavior, you need to first wrap it explicitly using `mindex_coords = xarray.Coordinates.from_pandas_multiindex(mindex_obj, 'dim')` and pass it as coordinates, e.g., `xarray.Dataset(coords=mindex_coords)`, `dataset.assign_coords(mindex_coords)` or `dataarray.assign_coords(mindex_coords)`.\n",
      "  return cls(datavars, coords=coords, attrs=attrs)\n",
      "/u/mit183/.pyenv/versions/3.11.7/lib/python3.11/site-packages/ska_sdp_datamodels/visibility/vis_model.py:190: FutureWarning: the `pandas.MultiIndex` object(s) passed as 'baselines' coordinate(s) or data variable(s) will no longer be implicitly promoted and wrapped into multiple indexed coordinates in the future (i.e., one coordinate for each multi-index level + one dimension coordinate). If you want to keep this behavior, you need to first wrap it explicitly using `mindex_coords = xarray.Coordinates.from_pandas_multiindex(mindex_obj, 'dim')` and pass it as coordinates, e.g., `xarray.Dataset(coords=mindex_coords)`, `dataset.assign_coords(mindex_coords)` or `dataarray.assign_coords(mindex_coords)`.\n",
      "  return cls(datavars, coords=coords, attrs=attrs)\n",
      "/u/mit183/.pyenv/versions/3.11.7/lib/python3.11/site-packages/ska_sdp_datamodels/visibility/vis_model.py:190: FutureWarning: the `pandas.MultiIndex` object(s) passed as 'baselines' coordinate(s) or data variable(s) will no longer be implicitly promoted and wrapped into multiple indexed coordinates in the future (i.e., one coordinate for each multi-index level + one dimension coordinate). If you want to keep this behavior, you need to first wrap it explicitly using `mindex_coords = xarray.Coordinates.from_pandas_multiindex(mindex_obj, 'dim')` and pass it as coordinates, e.g., `xarray.Dataset(coords=mindex_coords)`, `dataset.assign_coords(mindex_coords)` or `dataarray.assign_coords(mindex_coords)`.\n",
      "  return cls(datavars, coords=coords, attrs=attrs)\n",
      "/u/mit183/.pyenv/versions/3.11.7/lib/python3.11/site-packages/ska_sdp_datamodels/visibility/vis_model.py:190: FutureWarning: the `pandas.MultiIndex` object(s) passed as 'baselines' coordinate(s) or data variable(s) will no longer be implicitly promoted and wrapped into multiple indexed coordinates in the future (i.e., one coordinate for each multi-index level + one dimension coordinate). If you want to keep this behavior, you need to first wrap it explicitly using `mindex_coords = xarray.Coordinates.from_pandas_multiindex(mindex_obj, 'dim')` and pass it as coordinates, e.g., `xarray.Dataset(coords=mindex_coords)`, `dataset.assign_coords(mindex_coords)` or `dataarray.assign_coords(mindex_coords)`.\n",
      "  return cls(datavars, coords=coords, attrs=attrs)\n",
      "2024-12-17 19:38:47,666 - processing_tasks.predict - INFO - No beam model used in predict\n",
      "2024-12-17 19:38:47,679 - processing_tasks.predict - INFO - No beam model used in predict\n",
      "2024-12-17 19:38:47,796 - processing_tasks.predict - INFO - No beam model used in predict\n",
      "<frozen abc>:106: FutureWarning: xarray subclass Visibility should explicitly define __slots__\n",
      "2024-12-17 19:38:48,561 - processing_tasks.predict - INFO - No beam model used in predict\n",
      "2024-12-17 19:38:48,827 - pipeline.bandpass_calibration - INFO - Writing solutions to demo.hdf5\n",
      "2024-12-17 19:38:48,842 - pipeline.bandpass_calibration - INFO - Checking results\n",
      "2024-12-17 19:38:48,843 - pipeline.bandpass_calibration - INFO - Convergence checks passed\n"
     ]
    },
    {
     "name": "stdout",
     "output_type": "stream",
     "text": [
      "pipeline ran in 5.3 seconds\n"
     ]
    }
   ],
   "source": [
    "# Simple bandpass calibration with internally generated cluster\n",
    "t0 = perf_counter()\n",
    "bandpass_calibration.run(\n",
    "    {\n",
    "        \"lsm\": [\n",
    "            Component(\n",
    "                name=\"comp1\", RAdeg=20.0, DEdeg=-30.0, Fint200=1.0, alpha=0.0\n",
    "            ),\n",
    "            Component(\n",
    "                name=\"comp2\", RAdeg=19.5, DEdeg=-29.9, Fint200=0.1, alpha=0.0\n",
    "            ),\n",
    "        ],\n",
    "        \"beam_type\": \"none\",\n",
    "        \"ms_name\": \"demo.ms\",\n",
    "        \"hdf5_name\": \"demo.hdf5\",\n",
    "    }\n",
    ")\n",
    "print(f\"pipeline ran in {perf_counter() - t0:.1f} seconds\")"
   ]
  },
  {
   "cell_type": "code",
   "execution_count": 3,
   "id": "11cdf23c-1e37-48d9-9269-64b167d8efa8",
   "metadata": {},
   "outputs": [
    {
     "name": "stderr",
     "output_type": "stream",
     "text": [
      "2024-12-17 19:38:49,969 - workflow.pipeline_config - INFO - Simulating demo MSv2 input\n",
      "2024-12-17 19:38:49,970 - workflow.pipeline_config - INFO - Predicting visibilities without a beam\n",
      "2024-12-17 19:38:49,971 - workflow.pipeline_config - INFO - Generating a demo MSv2 Measurement Set demo.ms\n",
      "2024-12-17 19:38:49,998 - workflow.utils - INFO - Using AA1-Low with 20 stations\n",
      "2024-12-17 19:38:50,033 - processing_tasks.predict - INFO - No beam model used in predict\n"
     ]
    },
    {
     "name": "stdout",
     "output_type": "stream",
     "text": [
      "Sending scheduler address tcp://127.0.0.1:46183\n"
     ]
    },
    {
     "name": "stderr",
     "output_type": "stream",
     "text": [
      "2024-12-17 19:38:50,181 - workflow.utils - INFO - Applying direction-independent gain corruptions\n",
      "2024-12-17 19:38:50,761 - pipeline.bandpass_calibration - INFO - Starting pipeline with 16-channel chunks\n",
      "2024-12-17 19:38:50,762 - pipeline.bandpass_calibration - INFO - Using existing dask cluster tcp://127.0.0.1:46183\n",
      "2024-12-17 19:38:50,782 - pipeline.bandpass_calibration - INFO - Will read from demo.ms in 16-channel chunks\n",
      "2024-12-17 19:38:50,873 - pipeline.bandpass_calibration - INFO - Setting vis predict in 16-channel chunks\n",
      "2024-12-17 19:38:50,917 - pipeline.bandpass_calibration - INFO - Setting calibration in 16-channel chunks\n",
      "2024-12-17 19:38:50,970 - pipeline.bandpass_calibration - INFO - Running graph and returning calibration solutions\n",
      "<frozen abc>:106: FutureWarning: xarray subclass Visibility should explicitly define __slots__\n",
      "<frozen abc>:106: FutureWarning: xarray subclass Visibility should explicitly define __slots__\n",
      "<frozen abc>:106: FutureWarning: xarray subclass Visibility should explicitly define __slots__\n",
      "/u/mit183/.pyenv/versions/3.11.7/lib/python3.11/site-packages/ska_sdp_datamodels/visibility/vis_model.py:190: FutureWarning: the `pandas.MultiIndex` object(s) passed as 'baselines' coordinate(s) or data variable(s) will no longer be implicitly promoted and wrapped into multiple indexed coordinates in the future (i.e., one coordinate for each multi-index level + one dimension coordinate). If you want to keep this behavior, you need to first wrap it explicitly using `mindex_coords = xarray.Coordinates.from_pandas_multiindex(mindex_obj, 'dim')` and pass it as coordinates, e.g., `xarray.Dataset(coords=mindex_coords)`, `dataset.assign_coords(mindex_coords)` or `dataarray.assign_coords(mindex_coords)`.\n",
      "  return cls(datavars, coords=coords, attrs=attrs)\n",
      "/u/mit183/.pyenv/versions/3.11.7/lib/python3.11/site-packages/ska_sdp_datamodels/visibility/vis_model.py:190: FutureWarning: the `pandas.MultiIndex` object(s) passed as 'baselines' coordinate(s) or data variable(s) will no longer be implicitly promoted and wrapped into multiple indexed coordinates in the future (i.e., one coordinate for each multi-index level + one dimension coordinate). If you want to keep this behavior, you need to first wrap it explicitly using `mindex_coords = xarray.Coordinates.from_pandas_multiindex(mindex_obj, 'dim')` and pass it as coordinates, e.g., `xarray.Dataset(coords=mindex_coords)`, `dataset.assign_coords(mindex_coords)` or `dataarray.assign_coords(mindex_coords)`.\n",
      "  return cls(datavars, coords=coords, attrs=attrs)\n",
      "/u/mit183/.pyenv/versions/3.11.7/lib/python3.11/site-packages/ska_sdp_datamodels/visibility/vis_model.py:190: FutureWarning: the `pandas.MultiIndex` object(s) passed as 'baselines' coordinate(s) or data variable(s) will no longer be implicitly promoted and wrapped into multiple indexed coordinates in the future (i.e., one coordinate for each multi-index level + one dimension coordinate). If you want to keep this behavior, you need to first wrap it explicitly using `mindex_coords = xarray.Coordinates.from_pandas_multiindex(mindex_obj, 'dim')` and pass it as coordinates, e.g., `xarray.Dataset(coords=mindex_coords)`, `dataset.assign_coords(mindex_coords)` or `dataarray.assign_coords(mindex_coords)`.\n",
      "  return cls(datavars, coords=coords, attrs=attrs)\n",
      "/u/mit183/.pyenv/versions/3.11.7/lib/python3.11/site-packages/ska_sdp_datamodels/visibility/vis_model.py:190: FutureWarning: the `pandas.MultiIndex` object(s) passed as 'baselines' coordinate(s) or data variable(s) will no longer be implicitly promoted and wrapped into multiple indexed coordinates in the future (i.e., one coordinate for each multi-index level + one dimension coordinate). If you want to keep this behavior, you need to first wrap it explicitly using `mindex_coords = xarray.Coordinates.from_pandas_multiindex(mindex_obj, 'dim')` and pass it as coordinates, e.g., `xarray.Dataset(coords=mindex_coords)`, `dataset.assign_coords(mindex_coords)` or `dataarray.assign_coords(mindex_coords)`.\n",
      "  return cls(datavars, coords=coords, attrs=attrs)\n",
      "2024-12-17 19:38:52,294 - processing_tasks.predict - INFO - No beam model used in predict\n",
      "2024-12-17 19:38:52,391 - processing_tasks.predict - INFO - No beam model used in predict\n",
      "2024-12-17 19:38:52,401 - processing_tasks.predict - INFO - No beam model used in predict\n",
      "<frozen abc>:106: FutureWarning: xarray subclass Visibility should explicitly define __slots__\n",
      "2024-12-17 19:38:53,137 - processing_tasks.predict - INFO - No beam model used in predict\n",
      "2024-12-17 19:38:53,390 - pipeline.bandpass_calibration - INFO - Writing solutions to demo.hdf5\n",
      "2024-12-17 19:38:53,409 - pipeline.bandpass_calibration - INFO - Checking results\n",
      "2024-12-17 19:38:53,411 - pipeline.bandpass_calibration - INFO - Convergence checks passed\n"
     ]
    },
    {
     "name": "stdout",
     "output_type": "stream",
     "text": [
      "pipeline ran in 4.2 seconds\n"
     ]
    }
   ],
   "source": [
    "# Simple bandpass calibration with externally generated cluster\n",
    "t0 = perf_counter()\n",
    "cluster = LocalCluster()\n",
    "print(f\"Sending scheduler address {cluster.scheduler_address}\")\n",
    "bandpass_calibration.run(\n",
    "    {\n",
    "        \"dask_scheduler_address\": cluster.scheduler_address,\n",
    "        \"lsm\": [\n",
    "            Component(\n",
    "                name=\"comp1\", RAdeg=20.0, DEdeg=-30.0, Fint200=1.0, alpha=0.0\n",
    "            ),\n",
    "            Component(\n",
    "                name=\"comp2\", RAdeg=19.5, DEdeg=-29.9, Fint200=0.1, alpha=0.0\n",
    "            ),\n",
    "        ],\n",
    "        \"beam_type\": \"none\",\n",
    "        \"ms_name\": \"demo.ms\",\n",
    "        \"hdf5_name\": \"demo.hdf5\",\n",
    "    }\n",
    ")\n",
    "print(f\"pipeline ran in {perf_counter() - t0:.1f} seconds\")"
   ]
  },
  {
   "cell_type": "code",
   "execution_count": null,
   "id": "842dab56-4d0b-4870-b1d0-a17c65e623af",
   "metadata": {},
   "outputs": [],
   "source": []
  }
 ],
 "metadata": {
  "kernelspec": {
   "display_name": "Python 3 (ipykernel)",
   "language": "python",
   "name": "python3"
  },
  "language_info": {
   "codemirror_mode": {
    "name": "ipython",
    "version": 3
   },
   "file_extension": ".py",
   "mimetype": "text/x-python",
   "name": "python",
   "nbconvert_exporter": "python",
   "pygments_lexer": "ipython3",
   "version": "3.11.7"
  }
 },
 "nbformat": 4,
 "nbformat_minor": 5
}
