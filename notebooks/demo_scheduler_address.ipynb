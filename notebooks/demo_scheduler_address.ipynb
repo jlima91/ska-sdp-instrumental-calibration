{
 "cells": [
  {
   "cell_type": "markdown",
   "id": "98f58963-efb3-4025-898c-65f4c28a9685",
   "metadata": {},
   "source": [
    "This notebook runs a pipeline with the following steps:\n",
    "* Create a test Visibility dataset with two components and no beam.\n",
    "* Write to disk in MSv2 format.\n",
    "* Read MSv2 data into Visibility dataset.$^{*}$\n",
    "* Predict model visibilities.$^{*}$\n",
    "* Do bandpass calibration.$^{*}$\n",
    "* Check for convergence.$^{*}$\n",
    "\n",
    "\\* xarray dataset map_blocks() is used to distribute frequency sub-bands across dask tasks.\n",
    "\n",
    "The pipeline is called once with the default internal dask cluster,\n",
    "then again with an externally generated cluster."
   ]
  },
  {
   "cell_type": "code",
   "execution_count": 1,
   "id": "32e41c12-6fc8-4427-9f4c-d2f441bca880",
   "metadata": {},
   "outputs": [
    {
     "name": "stderr",
     "output_type": "stream",
     "text": [
      "<frozen abc>:106: FutureWarning: xarray subclass Visibility should explicitly define __slots__\n"
     ]
    }
   ],
   "source": [
    "from time import perf_counter\n",
    "\n",
    "from dask.distributed import LocalCluster\n",
    "from ska_sdp_instrumental_calibration.processing_tasks.lsm import Component\n",
    "from ska_sdp_instrumental_calibration.workflow.pipelines import (\n",
    "    bandpass_calibration,\n",
    ")"
   ]
  },
  {
   "cell_type": "code",
   "execution_count": 2,
   "id": "64240331-a7d1-4e7f-b02b-1139ca6e18ae",
   "metadata": {},
   "outputs": [
    {
     "name": "stderr",
     "output_type": "stream",
     "text": [
      "2025-02-05 14:58:09,866 - workflow.pipeline_config - INFO - Simulating demo MSv2 input\n",
      "2025-02-05 14:58:09,868 - workflow.pipeline_config - INFO - Predicting visibilities without a beam\n",
      "2025-02-05 14:58:09,868 - workflow.pipeline_config - INFO - Generating a demo MSv2 Measurement Set demo.ms\n",
      "2025-02-05 14:58:09,880 - workflow.utils - INFO - Using AA1-Low with 20 stations\n",
      "2025-02-05 14:58:10,422 - processing_tasks.predict - INFO - No beam model used in predict\n",
      "2025-02-05 14:58:10,578 - workflow.utils - INFO - Applying direction-independent gain corruptions\n",
      "2025-02-05 14:58:11,172 - pipeline.bandpass_calibration - INFO - Starting pipeline with 16-channel chunks\n",
      "2025-02-05 14:58:11,173 - pipeline.bandpass_calibration - INFO - No dask cluster supplied. Using LocalCluster\n",
      "2025-02-05 14:58:12,395 - pipeline.bandpass_calibration - INFO - Setting calibration in 16-channel chunks\n",
      "2025-02-05 14:58:12,396 - pipeline.bandpass_calibration - INFO - end_to_end_subbands = true\n",
      "2025-02-05 14:58:12,631 - pipeline.bandpass_calibration - INFO - Running graph and returning calibration solutions\n",
      "2025-02-05 14:58:13,777 - processing_tasks.predict - INFO - No beam model used in predict\n",
      "2025-02-05 14:58:13,779 - processing_tasks.predict - INFO - No beam model used in predict\n",
      "2025-02-05 14:58:14,714 - processing_tasks.predict - INFO - No beam model used in predict\n",
      "2025-02-05 14:58:14,715 - processing_tasks.predict - INFO - No beam model used in predict\n",
      "2025-02-05 14:58:14,905 - pipeline.bandpass_calibration - INFO - Writing solutions to demo.hdf5\n",
      "2025-02-05 14:58:14,919 - pipeline.bandpass_calibration - INFO - Checking results\n",
      "2025-02-05 14:58:14,921 - pipeline.bandpass_calibration - INFO - Convergence checks passed\n"
     ]
    },
    {
     "name": "stdout",
     "output_type": "stream",
     "text": [
      "pipeline ran in 5.4 seconds\n"
     ]
    }
   ],
   "source": [
    "# Simple bandpass calibration with internally generated cluster\n",
    "t0 = perf_counter()\n",
    "bandpass_calibration.run(\n",
    "    {\n",
    "        \"lsm\": [\n",
    "            Component(\n",
    "                name=\"comp1\", RAdeg=20.0, DEdeg=-30.0, flux=1.0, alpha=0.0\n",
    "            ),\n",
    "            Component(\n",
    "                name=\"comp2\", RAdeg=19.5, DEdeg=-29.9, flux=0.1, alpha=0.0\n",
    "            ),\n",
    "        ],\n",
    "        \"beam_type\": \"none\",\n",
    "        \"ms_name\": \"demo.ms\",\n",
    "        \"hdf5_name\": \"demo.hdf5\",\n",
    "    }\n",
    ")\n",
    "print(f\"pipeline ran in {perf_counter() - t0:.1f} seconds\")"
   ]
  },
  {
   "cell_type": "code",
   "execution_count": 3,
   "id": "11cdf23c-1e37-48d9-9269-64b167d8efa8",
   "metadata": {},
   "outputs": [
    {
     "name": "stderr",
     "output_type": "stream",
     "text": [
      "2025-02-05 14:58:16,046 - workflow.pipeline_config - INFO - Simulating demo MSv2 input\n",
      "2025-02-05 14:58:16,047 - workflow.pipeline_config - INFO - Predicting visibilities without a beam\n",
      "2025-02-05 14:58:16,048 - workflow.pipeline_config - INFO - Generating a demo MSv2 Measurement Set demo.ms\n",
      "2025-02-05 14:58:16,072 - workflow.utils - INFO - Using AA1-Low with 20 stations\n",
      "2025-02-05 14:58:16,123 - processing_tasks.predict - INFO - No beam model used in predict\n"
     ]
    },
    {
     "name": "stdout",
     "output_type": "stream",
     "text": [
      "Sending scheduler address tcp://127.0.0.1:33913\n"
     ]
    },
    {
     "name": "stderr",
     "output_type": "stream",
     "text": [
      "2025-02-05 14:58:16,248 - workflow.utils - INFO - Applying direction-independent gain corruptions\n",
      "2025-02-05 14:58:16,844 - pipeline.bandpass_calibration - INFO - Starting pipeline with 16-channel chunks\n",
      "2025-02-05 14:58:16,845 - pipeline.bandpass_calibration - INFO - Using existing dask cluster tcp://127.0.0.1:33913\n",
      "2025-02-05 14:58:16,858 - pipeline.bandpass_calibration - INFO - Setting calibration in 16-channel chunks\n",
      "2025-02-05 14:58:16,859 - pipeline.bandpass_calibration - INFO - end_to_end_subbands = true\n",
      "2025-02-05 14:58:16,936 - pipeline.bandpass_calibration - INFO - Running graph and returning calibration solutions\n",
      "2025-02-05 14:58:18,111 - processing_tasks.predict - INFO - No beam model used in predict\n",
      "2025-02-05 14:58:18,190 - processing_tasks.predict - INFO - No beam model used in predict\n",
      "2025-02-05 14:58:18,993 - processing_tasks.predict - INFO - No beam model used in predict\n",
      "2025-02-05 14:58:19,027 - processing_tasks.predict - INFO - No beam model used in predict\n",
      "2025-02-05 14:58:19,263 - pipeline.bandpass_calibration - INFO - Writing solutions to demo.hdf5\n",
      "2025-02-05 14:58:19,277 - pipeline.bandpass_calibration - INFO - Checking results\n",
      "2025-02-05 14:58:19,280 - pipeline.bandpass_calibration - INFO - Convergence checks passed\n"
     ]
    },
    {
     "name": "stdout",
     "output_type": "stream",
     "text": [
      "pipeline ran in 4.0 seconds\n"
     ]
    }
   ],
   "source": [
    "# Simple bandpass calibration with externally generated cluster\n",
    "t0 = perf_counter()\n",
    "cluster = LocalCluster()\n",
    "print(f\"Sending scheduler address {cluster.scheduler_address}\")\n",
    "bandpass_calibration.run(\n",
    "    {\n",
    "        \"dask_scheduler_address\": cluster.scheduler_address,\n",
    "        \"lsm\": [\n",
    "            Component(\n",
    "                name=\"comp1\", RAdeg=20.0, DEdeg=-30.0, flux=1.0, alpha=0.0\n",
    "            ),\n",
    "            Component(\n",
    "                name=\"comp2\", RAdeg=19.5, DEdeg=-29.9, flux=0.1, alpha=0.0\n",
    "            ),\n",
    "        ],\n",
    "        \"beam_type\": \"none\",\n",
    "        \"ms_name\": \"demo.ms\",\n",
    "        \"hdf5_name\": \"demo.hdf5\",\n",
    "    }\n",
    ")\n",
    "print(f\"pipeline ran in {perf_counter() - t0:.1f} seconds\")"
   ]
  },
  {
   "cell_type": "code",
   "execution_count": null,
   "id": "76c6a7ca-55b0-43e4-9b26-7d7be1b6820f",
   "metadata": {},
   "outputs": [],
   "source": []
  }
 ],
 "metadata": {
  "kernelspec": {
   "display_name": "Python 3 (ipykernel)",
   "language": "python",
   "name": "python3"
  },
  "language_info": {
   "codemirror_mode": {
    "name": "ipython",
    "version": 3
   },
   "file_extension": ".py",
   "mimetype": "text/x-python",
   "name": "python",
   "nbconvert_exporter": "python",
   "pygments_lexer": "ipython3",
   "version": "3.11.7"
  }
 },
 "nbformat": 4,
 "nbformat_minor": 5
}
