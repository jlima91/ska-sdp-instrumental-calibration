{
 "cells": [
  {
   "cell_type": "markdown",
   "id": "98f58963-efb3-4025-898c-65f4c28a9685",
   "metadata": {},
   "source": [
    "This notebook runs a pipeline with the following steps:\n",
    "* Create a test Visibility dataset with two components and no beam.\n",
    "* Write to disk in MSv2 format.\n",
    "* Read MSv2 data into Visibility dataset.$^{*}$\n",
    "* Predict model visibilities.$^{*}$\n",
    "* Do bandpass calibration.$^{*}$\n",
    "* Check for convergence.$^{*}$\n",
    "\n",
    "\\* xarray dataset map_blocks() is used to distribute frequency sub-bands across dask tasks.\n",
    "\n",
    "The pipeline is called once with the default internal dask cluster,\n",
    "then again with an externally generated cluster."
   ]
  },
  {
   "cell_type": "code",
   "execution_count": 1,
   "id": "32e41c12-6fc8-4427-9f4c-d2f441bca880",
   "metadata": {},
   "outputs": [
    {
     "name": "stderr",
     "output_type": "stream",
     "text": [
      "<frozen abc>:106: FutureWarning: xarray subclass Visibility should explicitly define __slots__\n"
     ]
    }
   ],
   "source": [
    "from time import perf_counter\n",
    "\n",
    "from dask.distributed import LocalCluster\n",
    "from ska_sdp_instrumental_calibration.processing_tasks.lsm import Component\n",
    "from ska_sdp_instrumental_calibration.workflow.pipelines import (\n",
    "    bandpass_calibration,\n",
    ")"
   ]
  },
  {
   "cell_type": "code",
   "execution_count": 2,
   "id": "64240331-a7d1-4e7f-b02b-1139ca6e18ae",
   "metadata": {},
   "outputs": [
    {
     "name": "stderr",
     "output_type": "stream",
     "text": [
      "2025-02-05 15:20:24,015 - workflow.pipeline_config - INFO - Simulating demo MSv2 input\n",
      "2025-02-05 15:20:24,017 - workflow.pipeline_config - INFO - Predicting visibilities without a beam\n",
      "2025-02-05 15:20:24,017 - workflow.pipeline_config - INFO - Generating a demo MSv2 Measurement Set demo.ms\n",
      "2025-02-05 15:20:24,041 - workflow.utils - INFO - Using AA1-Low with 20 stations\n",
      "2025-02-05 15:20:24,611 - processing_tasks.predict - INFO - No beam model used in predict\n",
      "2025-02-05 15:20:24,781 - workflow.utils - INFO - Applying direction-independent gain corruptions\n",
      "2025-02-05 15:20:25,245 - pipeline.bandpass_calibration - INFO - Starting pipeline with 16-channel chunks\n",
      "2025-02-05 15:20:25,246 - pipeline.bandpass_calibration - INFO - No dask cluster supplied. Using LocalCluster\n",
      "2025-02-05 15:20:26,718 - pipeline.bandpass_calibration - INFO - Setting calibration in 16-channel chunks\n",
      "2025-02-05 15:20:26,720 - pipeline.bandpass_calibration - INFO - end_to_end_subbands = true\n",
      "2025-02-05 15:20:26,960 - pipeline.bandpass_calibration - INFO - Running graph and returning calibration solutions\n",
      "2025-02-05 15:20:28,195 - processing_tasks.predict - INFO - No beam model used in predict\n",
      "2025-02-05 15:20:28,241 - processing_tasks.predict - INFO - No beam model used in predict\n",
      "2025-02-05 15:20:28,272 - processing_tasks.predict - INFO - No beam model used in predict\n",
      "2025-02-05 15:20:28,279 - processing_tasks.predict - INFO - No beam model used in predict\n",
      "2025-02-05 15:20:28,492 - pipeline.bandpass_calibration - INFO - Writing solutions to demo.h5\n",
      "2025-02-05 15:20:28,494 - workflow.utils - INFO - exporting cal solutions to demo.h5\n",
      "2025-02-05 15:20:28,506 - workflow.utils - INFO - output dimensions: {'time': 1, 'ant': 20, 'freq': 64, 'pol': 4}\n",
      "2025-02-05 15:20:28,521 - pipeline.bandpass_calibration - INFO - Checking results\n",
      "2025-02-05 15:20:28,523 - pipeline.bandpass_calibration - INFO - Convergence checks passed\n"
     ]
    },
    {
     "name": "stdout",
     "output_type": "stream",
     "text": [
      "pipeline ran in 4.9 seconds\n"
     ]
    }
   ],
   "source": [
    "# Simple bandpass calibration with internally generated cluster\n",
    "t0 = perf_counter()\n",
    "bandpass_calibration.run(\n",
    "    {\n",
    "        \"lsm\": [\n",
    "            Component(\n",
    "                name=\"comp1\", RAdeg=20.0, DEdeg=-30.0, flux=1.0, alpha=0.0\n",
    "            ),\n",
    "            Component(\n",
    "                name=\"comp2\", RAdeg=19.5, DEdeg=-29.9, flux=0.1, alpha=0.0\n",
    "            ),\n",
    "        ],\n",
    "        \"beam_type\": \"none\",\n",
    "        \"ms_name\": \"demo.ms\",\n",
    "        \"h5parm_name\": \"demo.h5\",\n",
    "    }\n",
    ")\n",
    "print(f\"pipeline ran in {perf_counter() - t0:.1f} seconds\")"
   ]
  },
  {
   "cell_type": "code",
   "execution_count": 3,
   "id": "11cdf23c-1e37-48d9-9269-64b167d8efa8",
   "metadata": {},
   "outputs": [
    {
     "name": "stderr",
     "output_type": "stream",
     "text": [
      "2025-02-05 15:20:29,707 - workflow.pipeline_config - INFO - Simulating demo MSv2 input\n",
      "2025-02-05 15:20:29,708 - workflow.pipeline_config - INFO - Predicting visibilities without a beam\n",
      "2025-02-05 15:20:29,709 - workflow.pipeline_config - INFO - Generating a demo MSv2 Measurement Set demo.ms\n",
      "2025-02-05 15:20:29,735 - workflow.utils - INFO - Using AA1-Low with 20 stations\n",
      "2025-02-05 15:20:29,788 - processing_tasks.predict - INFO - No beam model used in predict\n"
     ]
    },
    {
     "name": "stdout",
     "output_type": "stream",
     "text": [
      "Sending scheduler address tcp://127.0.0.1:44443\n"
     ]
    },
    {
     "name": "stderr",
     "output_type": "stream",
     "text": [
      "2025-02-05 15:20:29,915 - workflow.utils - INFO - Applying direction-independent gain corruptions\n",
      "2025-02-05 15:20:30,478 - pipeline.bandpass_calibration - INFO - Starting pipeline with 16-channel chunks\n",
      "2025-02-05 15:20:30,479 - pipeline.bandpass_calibration - INFO - Using existing dask cluster tcp://127.0.0.1:44443\n",
      "2025-02-05 15:20:30,499 - pipeline.bandpass_calibration - INFO - Setting calibration in 16-channel chunks\n",
      "2025-02-05 15:20:30,500 - pipeline.bandpass_calibration - INFO - end_to_end_subbands = true\n",
      "2025-02-05 15:20:30,596 - pipeline.bandpass_calibration - INFO - Running graph and returning calibration solutions\n",
      "2025-02-05 15:20:31,741 - processing_tasks.predict - INFO - No beam model used in predict\n",
      "2025-02-05 15:20:31,811 - processing_tasks.predict - INFO - No beam model used in predict\n",
      "2025-02-05 15:20:32,601 - processing_tasks.predict - INFO - No beam model used in predict\n",
      "2025-02-05 15:20:32,625 - processing_tasks.predict - INFO - No beam model used in predict\n",
      "2025-02-05 15:20:32,835 - pipeline.bandpass_calibration - INFO - Writing solutions to demo.h5\n",
      "2025-02-05 15:20:32,837 - workflow.utils - INFO - exporting cal solutions to demo.h5\n",
      "2025-02-05 15:20:32,848 - workflow.utils - INFO - output dimensions: {'time': 1, 'ant': 20, 'freq': 64, 'pol': 4}\n",
      "2025-02-05 15:20:32,865 - pipeline.bandpass_calibration - INFO - Checking results\n",
      "2025-02-05 15:20:32,867 - pipeline.bandpass_calibration - INFO - Convergence checks passed\n"
     ]
    },
    {
     "name": "stdout",
     "output_type": "stream",
     "text": [
      "pipeline ran in 4.3 seconds\n"
     ]
    }
   ],
   "source": [
    "# Simple bandpass calibration with externally generated cluster\n",
    "t0 = perf_counter()\n",
    "with LocalCluster() as cluster:\n",
    "    print(f\"Sending scheduler address {cluster.scheduler_address}\")\n",
    "    bandpass_calibration.run(\n",
    "        {\n",
    "            \"dask_scheduler_address\": cluster.scheduler_address,\n",
    "            \"lsm\": [\n",
    "                Component(\n",
    "                    name=\"comp1\", RAdeg=20.0, DEdeg=-30.0, flux=1.0, alpha=0.0\n",
    "                ),\n",
    "                Component(\n",
    "                    name=\"comp2\", RAdeg=19.5, DEdeg=-29.9, flux=0.1, alpha=0.0\n",
    "                ),\n",
    "            ],\n",
    "            \"beam_type\": \"none\",\n",
    "            \"ms_name\": \"demo.ms\",\n",
    "            \"h5parm_name\": \"demo.h5\",\n",
    "        }\n",
    "    )\n",
    "print(f\"pipeline ran in {perf_counter() - t0:.1f} seconds\")"
   ]
  },
  {
   "cell_type": "code",
   "execution_count": null,
   "id": "76c6a7ca-55b0-43e4-9b26-7d7be1b6820f",
   "metadata": {},
   "outputs": [],
   "source": []
  }
 ],
 "metadata": {
  "kernelspec": {
   "display_name": "Python 3 (ipykernel)",
   "language": "python",
   "name": "python3"
  },
  "language_info": {
   "codemirror_mode": {
    "name": "ipython",
    "version": 3
   },
   "file_extension": ".py",
   "mimetype": "text/x-python",
   "name": "python",
   "nbconvert_exporter": "python",
   "pygments_lexer": "ipython3",
   "version": "3.11.7"
  }
 },
 "nbformat": 4,
 "nbformat_minor": 5
}
