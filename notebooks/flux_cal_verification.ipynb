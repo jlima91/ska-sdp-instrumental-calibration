{
 "cells": [
  {
   "cell_type": "code",
   "execution_count": 3,
   "id": "7c499361-6488-429f-b464-c4571c57d8ed",
   "metadata": {},
   "outputs": [],
   "source": [
    "# Loading modelvis.ms and gaintable applied ms\n",
    "input_ms = \"/home/ska/Work/data/INST/lg3/cal_bpp_vis-lg3-rotated.small.ms\"\n",
    "model_ms = \"/home/nitin/Work/ska/sdp/ska-sdp-instrumental-calibration/model.ms\"\n",
    "# applied_ms = \"/home/nitin/Work/ska/sdp/ska-sdp-instrumental-calibration/cal_bpp_vis-lg3-rotated.small.applied.ms\"\n",
    "applied_ms = \"/home/ska/Work/output/cal_bpp_vis-lg3-rotated.small.ms/\""
   ]
  },
  {
   "cell_type": "code",
   "execution_count": 4,
   "id": "10c5aa72-80d8-4c0d-bf17-24d4fcb10c86",
   "metadata": {},
   "outputs": [],
   "source": [
    "import matplotlib.pyplot as plt\n",
    "from ska_sdp_instrumental_calibration.data_managers.dask_wrappers import load_ms\n",
    "import numpy as np"
   ]
  },
  {
   "cell_type": "code",
   "execution_count": 5,
   "id": "49150abb-103e-4d90-bab6-671cd51839cb",
   "metadata": {},
   "outputs": [],
   "source": [
    "from dask.distributed import Client, LocalCluster"
   ]
  },
  {
   "cell_type": "code",
   "execution_count": 6,
   "id": "1f10648e-ed61-4328-95c9-99b39301392e",
   "metadata": {},
   "outputs": [],
   "source": [
    "cluster = LocalCluster(n_workers=4, threads_per_worker=2)\n",
    "client = Client(cluster)"
   ]
  },
  {
   "cell_type": "code",
   "execution_count": 7,
   "id": "d49bd3bd-7f4f-4426-89a3-c739443c536b",
   "metadata": {},
   "outputs": [],
   "source": [
    "uncalibrated_ms = load_ms(input_ms, fchunk=32)\n",
    "model = load_ms(model_ms, fchunk=32)\n",
    "applied = load_ms(applied_ms, fchunk=32)"
   ]
  },
  {
   "cell_type": "code",
   "execution_count": 46,
   "id": "895a9a51-8845-44e1-b453-d247b70ec80d",
   "metadata": {},
   "outputs": [],
   "source": [
    "def create_amp_freq_plots(ds, applied, title, subtitle1_prefix, subtitle2_prefix, time, baseline_start, baselines_count, filename_prefix):\n",
    "    fig = plt.figure(layout=\"constrained\",figsize=(20,10))\n",
    "    fig.suptitle(title, fontsize=16)\n",
    "    subfigs = fig.subfigures(1,baselines_count).reshape(-1)\n",
    "\n",
    "    baselineid = baseline_start\n",
    "    for idx,subfig in enumerate(subfigs):\n",
    "        fig1,fig2 = subfig.subplots(2, 1)\n",
    "        \n",
    "        fig1.set_title(f\"{subtitle1_prefix}. baselineid {baselineid}\")\n",
    "        fig1.set_xlabel(\"channel\")\n",
    "        fig1.set_ylabel(\"amp\")\n",
    "        fig1.set_ylim([0, 100])\n",
    "        fig1.plot(abs(ds.vis.isel(polarisation=0, baselineid=baselineid, time=time)))\n",
    "\n",
    "        fig2.set_title(f\"{subtitle2_prefix}. baselineid {baselineid}\")\n",
    "        fig2.set_xlabel(\"channel\")\n",
    "        fig2.set_ylabel(\"amp\")\n",
    "        fig2.set_ylim([0, 100])\n",
    "        fig2.plot(abs(applied.vis.isel(polarisation=0, baselineid=baselineid, time=time)))\n",
    "        \n",
    "        baselineid += 1\n",
    "    \n",
    "    fig.savefig(f\"{filename_prefix}-baseline-{baseline_start}-{baseline_start+baselines_count}.png\")\n",
    "    plt.close()"
   ]
  },
  {
   "cell_type": "markdown",
   "id": "94ea167b-169e-4f70-8309-d55e3c98f701",
   "metadata": {},
   "source": [
    "## Amp vs Freq plots"
   ]
  },
  {
   "cell_type": "code",
   "execution_count": 12,
   "id": "12d6f56b-270f-4143-a3f0-fd4e02e4dda3",
   "metadata": {},
   "outputs": [],
   "source": [
    "# amp vs freq input vs applied flux cal\n",
    "\n",
    "create_amp_freq_plots(uncalibrated_ms,\n",
    "                      applied,\n",
    "                      title=\"Bandpass calibration. Amp vs Channel.\",\n",
    "                      subtitle1_prefix=\"Uncalibrated\",\n",
    "                      subtitle2_prefix=\"Calibrated\",\n",
    "                      time=0,\n",
    "                      baseline_start=2,\n",
    "                      baselines_count=3,\n",
    "                      filename_prefix=\"amp-freq-uncalibrated-vs-calibrated\"\n",
    "                     )"
   ]
  },
  {
   "cell_type": "code",
   "execution_count": 17,
   "id": "2e735106-e0d9-4617-85b9-54606d583e5c",
   "metadata": {
    "scrolled": true
   },
   "outputs": [],
   "source": [
    "# amp vs freq model vs applied flux cal\n",
    "\n",
    "create_amp_freq_plots(model,\n",
    "                      applied,\n",
    "                      title=\"Bandpass calibration. Amp vs Channel.\",\n",
    "                      subtitle1_prefix=\"Model\",\n",
    "                      subtitle2_prefix=\"After flux cal\",\n",
    "                      time=0,\n",
    "                      baseline_start=2,\n",
    "                      baselines_count=3,\n",
    "                      filename_prefix=\"amp-freq-model-vs-calibrated\"\n",
    "                     )"
   ]
  },
  {
   "cell_type": "markdown",
   "id": "97e0c7c2-f0cd-46df-9774-a2ede1b96702",
   "metadata": {},
   "source": [
    "## Amp vs UVWaves plots"
   ]
  },
  {
   "cell_type": "code",
   "execution_count": 8,
   "id": "70c35eb1-0f88-498d-8ab4-274fbfa33316",
   "metadata": {},
   "outputs": [],
   "source": [
    "# amp vs uv wave\n",
    "\n",
    "def get_uv_wave(uvw, frequency):\n",
    "    c = 3e8\n",
    "    wavelength = c / frequency\n",
    "    uvw_t = uvw.transpose(\"spatial\", \"time\", \"baselineid\")\n",
    "    return ((uvw_t[0] ** 2 + uvw_t[1] ** 2) ** 0.5) / wavelength\n",
    "    "
   ]
  },
  {
   "cell_type": "code",
   "execution_count": 10,
   "id": "4e8023ab-0914-4a65-a035-fad0b3062abb",
   "metadata": {},
   "outputs": [],
   "source": [
    "def plot_uv_waves(model, applied, freq_range):\n",
    "    fig = plt.figure(layout=\"constrained\",figsize=(10,5))\n",
    "    fig.suptitle(\"Bandpass calibration. Amp vs UVWave\", fontsize=16)\n",
    "    model_fig,applied_fig = fig.subplots(1, 2)\n",
    "\n",
    "    model_fig.set_title(\"Model\")\n",
    "    model_fig.set_xlabel(\"UVwave (λ)\")\n",
    "    model_fig.set_ylabel(\"amp\")\n",
    "    \n",
    "    freq = np.arange(*freq_range)\n",
    "    model_fig.scatter(\n",
    "        abs(get_uv_wave(model.uvw, model.frequency.isel(frequency=freq)).stack(flatted_dim=(\"time\", \"baselineid\", \"frequency\"))),\n",
    "        abs(model.vis.isel(polarisation=0, frequency=freq).stack(flatted_dim=(\"time\", \"baselineid\", \"frequency\"))),\n",
    "        s=1.0\n",
    "    )\n",
    "    \n",
    "    applied_fig.set_title(\"After flux cal\")\n",
    "    applied_fig.set_xlabel(\"UVwave (λ)\")\n",
    "    applied_fig.set_ylabel(\"amp\")\n",
    "    \n",
    "    applied_fig.scatter(\n",
    "        abs(get_uv_wave(applied.uvw, applied.frequency.isel(frequency=freq)).stack(flatted_dim=(\"time\", \"baselineid\", \"frequency\"))),\n",
    "        abs(applied.vis.isel(polarisation=0, frequency=freq).stack(flatted_dim=(\"time\", \"baselineid\", \"frequency\"))),\n",
    "        s=1.0\n",
    "    )\n",
    "\n",
    "    fig.savefig(f\"uv-distance-model-flux-cal-freq-{freq_range}.png\")\n",
    "    plt.close()\n",
    "    "
   ]
  },
  {
   "cell_type": "code",
   "execution_count": 12,
   "id": "d0b75e50-9c90-4db9-8d51-2309fcdde03d",
   "metadata": {},
   "outputs": [],
   "source": [
    "plot_uv_waves(model, applied, freq_range=(200, 300))"
   ]
  }
 ],
 "metadata": {
  "kernelspec": {
   "display_name": "Python 3 (ipykernel)",
   "language": "python",
   "name": "python3"
  },
  "language_info": {
   "codemirror_mode": {
    "name": "ipython",
    "version": 3
   },
   "file_extension": ".py",
   "mimetype": "text/x-python",
   "name": "python",
   "nbconvert_exporter": "python",
   "pygments_lexer": "ipython3",
   "version": "3.10.16"
  }
 },
 "nbformat": 4,
 "nbformat_minor": 5
}
