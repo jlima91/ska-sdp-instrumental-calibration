{
 "cells": [
  {
   "cell_type": "code",
   "execution_count": 1,
   "id": "7c499361-6488-429f-b464-c4571c57d8ed",
   "metadata": {},
   "outputs": [],
   "source": [
    "# Loading modelvis.ms and gaintable applied ms\n",
    "\n",
    "## Params used to generated model.ms\n",
    "# {\n",
    "#         \"beam_type\": None,\n",
    "#         \"eb_ms\": None,\n",
    "#         \"eb_coeffs\": None,\n",
    "#         \"gleamfile\": None,\n",
    "#         \"lsm_csv_path\": \"/home/ska/Work/data/INST/lg3/sky_model_cal.csv\",\n",
    "#         \"fov\": 10.0,\n",
    "#         \"flux_limit\": 1.0,\n",
    "#         \"alpha0\":-0.78,\n",
    "#         \"reset_vis\": False,\n",
    "#         \"export_model_vis\": False,\n",
    "#     }\n",
    "\n",
    "input_ms = \"/home/ska/Work/data/INST/lg3/cal_bpp_vis-lg3-rotated.small.ms\"\n",
    "model_ms = \"/home/nitin/Work/ska/sdp/ska-sdp-instrumental-calibration/model.ms\"\n",
    "applied_ms = \"/home/nitin/Work/ska/sdp/ska-sdp-instrumental-calibration/cal_bpp_vis-lg3-rotated.small.applied.ms\""
   ]
  },
  {
   "cell_type": "code",
   "execution_count": 3,
   "id": "10c5aa72-80d8-4c0d-bf17-24d4fcb10c86",
   "metadata": {},
   "outputs": [],
   "source": [
    "import matplotlib.pyplot as plt\n",
    "from ska_sdp_instrumental_calibration.data_managers.dask_wrappers import load_ms"
   ]
  },
  {
   "cell_type": "code",
   "execution_count": 4,
   "id": "d49bd3bd-7f4f-4426-89a3-c739443c536b",
   "metadata": {},
   "outputs": [],
   "source": [
    "uncalibrated_ms = load_ms(input_ms, fchunk=32)\n",
    "model = load_ms(model_ms, fchunk=32)\n",
    "applied = load_ms(applied_ms, fchunk=32)"
   ]
  },
  {
   "cell_type": "code",
   "execution_count": 5,
   "id": "895a9a51-8845-44e1-b453-d247b70ec80d",
   "metadata": {},
   "outputs": [],
   "source": [
    "def create_amp_freq_plots(ds, applied, title, subtitle1_prefix, subtitle2_prefix, time, baseline_start, baselines_count, filename_prefix):\n",
    "    fig = plt.figure(layout=\"constrained\",figsize=(20,10))\n",
    "    fig.suptitle(title, fontsize=16)\n",
    "    subfigs = fig.subfigures(1,baselines_count).reshape(-1)\n",
    "\n",
    "    baselineid = baseline_start\n",
    "    for idx,subfig in enumerate(subfigs):\n",
    "        fig1,fig2 = subfig.subplots(2, 1)\n",
    "        \n",
    "        fig1.set_title(f\"{subtitle1_prefix}. baselineid {baselineid}\")\n",
    "        fig1.set_xlabel(\"channel\")\n",
    "        fig1.set_ylabel(\"amp\")\n",
    "        fig1.plot(abs(ds.vis.isel(polarisation=0, baselineid=baselineid, time=time)))\n",
    "\n",
    "        fig2.set_title(f\"{subtitle2_prefix}. baselineid {baselineid}\")\n",
    "        fig2.set_xlabel(\"channel\")\n",
    "        fig2.set_ylabel(\"amp\")\n",
    "        fig2.plot(abs(applied.vis.isel(polarisation=0, baselineid=baselineid, time=time)))\n",
    "        \n",
    "        baselineid += 1\n",
    "    \n",
    "    fig.savefig(f\"{filename_prefix}-baseline-{baseline_start}-{baseline_start+baselines_count}.png\")\n",
    "    plt.close()"
   ]
  },
  {
   "cell_type": "markdown",
   "id": "94ea167b-169e-4f70-8309-d55e3c98f701",
   "metadata": {},
   "source": [
    "## Amp vs Freq plots"
   ]
  },
  {
   "cell_type": "code",
   "execution_count": 6,
   "id": "12d6f56b-270f-4143-a3f0-fd4e02e4dda3",
   "metadata": {},
   "outputs": [],
   "source": [
    "# amp vs freq input vs applied flux cal\n",
    "\n",
    "create_amp_freq_plots(uncalibrated_ms,\n",
    "                      applied,\n",
    "                      title=\"Amp vs Channel. uncalibrated vs calibrated data\",\n",
    "                      subtitle1_prefix=\"Uncalibrated\",\n",
    "                      subtitle2_prefix=\"Calibrated\",\n",
    "                      time=0,\n",
    "                      baseline_start=2,\n",
    "                      baselines_count=3,\n",
    "                      filename_prefix=\"amp-freq-uncalibrated-vs-calibrated\"\n",
    "                     )"
   ]
  },
  {
   "cell_type": "code",
   "execution_count": 7,
   "id": "2e735106-e0d9-4617-85b9-54606d583e5c",
   "metadata": {
    "scrolled": true
   },
   "outputs": [],
   "source": [
    "# amp vs freq model vs applied flux cal\n",
    "\n",
    "create_amp_freq_plots(model,\n",
    "                      applied,\n",
    "                      title=\"Amp vs Channel. Model vs calibrated data\",\n",
    "                      subtitle1_prefix=\"Model\",\n",
    "                      subtitle2_prefix=\"After flux cal\",\n",
    "                      time=0,\n",
    "                      baseline_start=2,\n",
    "                      baselines_count=3,\n",
    "                      filename_prefix=\"amp-freq-model-vs-calibrated\"\n",
    "                     )"
   ]
  },
  {
   "cell_type": "markdown",
   "id": "97e0c7c2-f0cd-46df-9774-a2ede1b96702",
   "metadata": {},
   "source": [
    "## Amp vs UVWaves plots"
   ]
  },
  {
   "cell_type": "code",
   "execution_count": 8,
   "id": "70c35eb1-0f88-498d-8ab4-274fbfa33316",
   "metadata": {},
   "outputs": [],
   "source": [
    "# amp vs uv wave\n",
    "\n",
    "def get_uv_wave(uvw, frequency):\n",
    "    c = 3e8\n",
    "    wavelength = c / frequency\n",
    "    uvw_t = uvw.transpose(\"spatial\", \"time\", \"baselineid\")\n",
    "    return ((uvw_t[0] ** 2 + uvw_t[1] ** 2) ** 0.5) / wavelength\n",
    "    "
   ]
  },
  {
   "cell_type": "code",
   "execution_count": 17,
   "id": "4e8023ab-0914-4a65-a035-fad0b3062abb",
   "metadata": {},
   "outputs": [],
   "source": [
    "def plot_uv_waves(model, applied):\n",
    "    fig = plt.figure(layout=\"constrained\",figsize=(10,5))\n",
    "    fig.suptitle(\"Amp vs UVWave\", fontsize=16)\n",
    "    model_fig,applied_fig = fig.subplots(1, 2)\n",
    "\n",
    "    model_fig.set_title(\"Model\")\n",
    "    model_fig.set_xlabel(\"UVwave (λ)\")\n",
    "    model_fig.set_ylabel(\"amp\")\n",
    "    \n",
    "    model_fig.scatter(\n",
    "        abs(get_uv_wave(model.uvw, model.frequency).stack(flatted_dim=(\"time\", \"baselineid\", \"frequency\"))),\n",
    "        abs(model.vis.isel(polarisation=0).stack(flatted_dim=(\"time\", \"baselineid\", \"frequency\"))),\n",
    "        s=1.0\n",
    "    )\n",
    "    \n",
    "    applied_fig.set_title(\"After flux cal\")\n",
    "    applied_fig.set_xlabel(\"UVwave (λ)\")\n",
    "    applied_fig.set_ylabel(\"amp\")\n",
    "    applied_fig.scatter(\n",
    "        abs(get_uv_wave(applied.uvw, applied.frequency).stack(flatted_dim=(\"time\", \"baselineid\", \"frequency\"))),\n",
    "        abs(applied.vis.isel(polarisation=0).stack(flatted_dim=(\"time\", \"baselineid\", \"frequency\"))),\n",
    "        s=1.0\n",
    "    )\n",
    "\n",
    "    fig.savefig(\"uv-distance-model-flux-cal.png\")\n",
    "    plt.close()\n",
    "    "
   ]
  },
  {
   "cell_type": "code",
   "execution_count": 18,
   "id": "d0b75e50-9c90-4db9-8d51-2309fcdde03d",
   "metadata": {},
   "outputs": [],
   "source": [
    "plot_uv_waves(model, applied)"
   ]
  }
 ],
 "metadata": {
  "kernelspec": {
   "display_name": "Python 3 (ipykernel)",
   "language": "python",
   "name": "python3"
  },
  "language_info": {
   "codemirror_mode": {
    "name": "ipython",
    "version": 3
   },
   "file_extension": ".py",
   "mimetype": "text/x-python",
   "name": "python",
   "nbconvert_exporter": "python",
   "pygments_lexer": "ipython3",
   "version": "3.10.16"
  }
 },
 "nbformat": 4,
 "nbformat_minor": 5
}
