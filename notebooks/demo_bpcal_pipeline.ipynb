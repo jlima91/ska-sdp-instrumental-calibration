{
 "cells": [
  {
   "cell_type": "markdown",
   "id": "98f58963-efb3-4025-898c-65f4c28a9685",
   "metadata": {},
   "source": [
    "This notebook runs a pipeline with the following steps:\n",
    "* Create a test Visibility dataset.\n",
    "   * No visibility sample noise. Just testing that things are working exactly as expected.\n",
    "   * Using the GLEAM sky model and a common everybeam station beam model.\n",
    "   * Add complex Gaussian noise corruptions to station Jones matrices.\n",
    "   * Write to disk in MSv2 format.\n",
    "* Read MSv2 data into Visibility dataset.$^{*}$\n",
    "* Predict model visibilities (using GLEAM and everybeam).$^{*}$\n",
    "* Do bandpass calibration.$^{*}$\n",
    "* Check for convergence.$^{*}$\n",
    "\n",
    "\\* xarray dataset map_blocks() is used to distribute frequency sub-bands across dask tasks.\n",
    "\n",
    "The pipeline is called once with a simple model, gain corruptions and a gain solver,\n",
    "then again with a more complicated sky and beam model,\n",
    "then again with gain and leakage corruptions and a polarised solver."
   ]
  },
  {
   "cell_type": "code",
   "execution_count": null,
   "id": "32e41c12-6fc8-4427-9f4c-d2f441bca880",
   "metadata": {},
   "outputs": [],
   "source": [
    "from time import perf_counter\n",
    "\n",
    "from ska_sdp_instrumental_calibration.processing_tasks.lsm import Component\n",
    "from ska_sdp_instrumental_calibration.workflow.pipelines import (\n",
    "    bandpass_calibration,\n",
    ")"
   ]
  },
  {
   "cell_type": "code",
   "execution_count": null,
   "id": "d50dd98a-e34a-4477-b00f-29183488759c",
   "metadata": {},
   "outputs": [],
   "source": [
    "gleamfile = \"../testdata/gleamegc.dat\"\n",
    "eb_ms = \"../testdata/OSKAR_MOCK.ms\"\n",
    "eb_coeffs = \"../testdata/ska-sdp-func-everybeam/coeffs\""
   ]
  },
  {
   "cell_type": "code",
   "execution_count": null,
   "id": "64240331-a7d1-4e7f-b02b-1139ca6e18ae",
   "metadata": {},
   "outputs": [],
   "source": [
    "# Simple bandpass calibration of X and Y gains with a user-defined sky model\n",
    "t0 = perf_counter()\n",
    "bandpass_calibration.run(\n",
    "    {\n",
    "        \"lsm\": [\n",
    "            Component(\n",
    "                name=\"comp1\", RAdeg=20.0, DEdeg=-30.0, flux=1.0, alpha=0.0\n",
    "            ),\n",
    "            Component(\n",
    "                name=\"comp2\", RAdeg=19.5, DEdeg=-29.9, flux=0.1, alpha=0.0\n",
    "            ),\n",
    "        ],\n",
    "        \"beam_type\": \"none\",\n",
    "        \"ms_name\": \"demo.ms\",\n",
    "        \"hdf5_name\": \"demo.hdf5\",\n",
    "    }\n",
    ")\n",
    "print(f\"pipeline ran in {perf_counter() - t0:.1f} seconds\")"
   ]
  },
  {
   "cell_type": "code",
   "execution_count": null,
   "id": "21d146aa-b960-4cfe-9e4e-29740a412a0c",
   "metadata": {},
   "outputs": [],
   "source": [
    "# Simple bandpass calibration of X and Y gains with GLEAM and EveryBeam\n",
    "t0 = perf_counter()\n",
    "bandpass_calibration.run(\n",
    "    {\n",
    "        # Required external data\n",
    "        \"gleamfile\": gleamfile,\n",
    "        \"eb_ms\": eb_ms,\n",
    "        \"eb_coeffs\": eb_coeffs,\n",
    "        # Other parameters\n",
    "        \"ms_name\": \"demo.ms\",\n",
    "        \"hdf5_name\": \"demo.hdf5\",\n",
    "    }\n",
    ")\n",
    "print(f\"pipeline ran in {perf_counter() - t0:.1f} seconds\")"
   ]
  },
  {
   "cell_type": "code",
   "execution_count": null,
   "id": "885b993e-f068-44bb-b94d-8cd9b4d500e8",
   "metadata": {},
   "outputs": [],
   "source": [
    "# Bandpass calibration with leakage\n",
    "t0 = perf_counter()\n",
    "bandpass_calibration.run(\n",
    "    {\n",
    "        # Required external data\n",
    "        \"gleamfile\": gleamfile,\n",
    "        \"eb_ms\": eb_ms,\n",
    "        \"eb_coeffs\": eb_coeffs,\n",
    "        # Other parameters\n",
    "        \"ms_name\": \"demo.ms\",\n",
    "        \"hdf5_name\": \"demo.hdf5\",\n",
    "        \"gains\": True,\n",
    "        \"leakage\": True,\n",
    "        \"solver\": \"normal_equations\",\n",
    "    }\n",
    ")\n",
    "print(f\"pipeline ran in {perf_counter() - t0:.1f} seconds\")"
   ]
  },
  {
   "cell_type": "code",
   "execution_count": null,
   "id": "11cdf23c-1e37-48d9-9269-64b167d8efa8",
   "metadata": {},
   "outputs": [],
   "source": []
  }
 ],
 "metadata": {
  "kernelspec": {
   "display_name": "Python 3 (ipykernel)",
   "language": "python",
   "name": "python3"
  },
  "language_info": {
   "codemirror_mode": {
    "name": "ipython",
    "version": 3
   },
   "file_extension": ".py",
   "mimetype": "text/x-python",
   "name": "python",
   "nbconvert_exporter": "python",
   "pygments_lexer": "ipython3",
   "version": "3.11.9"
  }
 },
 "nbformat": 4,
 "nbformat_minor": 5
}
