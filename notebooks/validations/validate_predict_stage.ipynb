{
 "cells": [
  {
   "cell_type": "markdown",
   "id": "8a78de4a-f95f-42d6-9f51-cb6589198dcc",
   "metadata": {},
   "source": [
    "# Validata Predict Stage"
   ]
  },
  {
   "cell_type": "code",
   "execution_count": 1,
   "id": "bd8a411c-3940-4ab1-b5bc-b24613de796f",
   "metadata": {},
   "outputs": [
    {
     "name": "stderr",
     "output_type": "stream",
     "text": [
      "/usr/lib/python3.10/abc.py:106: FutureWarning: xarray subclass Visibility should explicitly define __slots__\n",
      "  cls = super().__new__(mcls, name, bases, namespace, **kwargs)\n"
     ]
    }
   ],
   "source": [
    "from ska_sdp_instrumental_calibration.workflow.stages import (\n",
    "    load_data_stage,\n",
    "    predict_vis_stage,\n",
    ")\n",
    "from ska_sdp_datamodels.visibility.vis_io_ms import export_visibility_to_ms\n",
    "from ska_sdp_instrumental_calibration.scheduler import UpstreamOutput\n",
    "import matplotlib.pyplot as plt\n",
    "import os"
   ]
  },
  {
   "cell_type": "markdown",
   "id": "404e5130-2976-4bbb-80b4-d9a54b788205",
   "metadata": {},
   "source": [
    "### Data Generation\n",
    "\n",
    "We had simulated data using Oskar. The simulation scripts are present in `scripts/ska_low_sim`. (refer [confluence page](https://confluence.skatelescope.org/display/SE/DHR-311%3A+Script+to+simulate+SKA-LOW+visibilities))\n",
    "\n",
    "#### Simulation Configuration\n",
    "\n",
    "For simulation following configuration is used. (further refered as `custom_sim.yaml`)\n",
    "\n",
    "``` yaml\n",
    "scenario: \"low40s-model\"         \n",
    "\n",
    "# ===============================\n",
    "# Global simulation parameters\n",
    "# ===============================\n",
    "\n",
    "n_stations: 40                                         # Number of stations\n",
    "tel_model: \"./telescope-models/SKA-Low_AA2_40S_rigid-rotation_model.tm\" # Telescope model directory\n",
    "\n",
    "simulation_start_frequency_hz: 123.0e6                  # Start frequency (Hz)\n",
    "simulation_end_frequency_hz: 153.0e6                    # End frequency (Hz)\n",
    "correlated_channel_bandwidth_hz: 21.70138888888889e3    # Channel width (Hz)\n",
    "\n",
    "observing_time_mins: 10                              # Observation duration (minutes)\n",
    "sampling_time_sec: 3.3973862400000003                   # Dump/integration time (seconds)\n",
    "\n",
    "fields:\n",
    "  EoR2:\n",
    "    Cal1:\n",
    "      ra_deg: 197.914612\n",
    "      dec_deg: -22.277973\n",
    "      scan_id_start: 300\n",
    "      transit_time: \"2000-01-03 22:33:30.000\"\n",
    "\n",
    "# ===============================\n",
    "# Options for run_sim.py\n",
    "# ===============================\n",
    "\n",
    "run_sim:\n",
    "  oskar_sif: \"./OSKAR-2.11.1-Python3.sif\" # Path to OSKAR Singularity image\n",
    "\n",
    "  # GLEAM sky model.\n",
    "  gleam_file: \"./sky-models/GLEAM_EGC.fits\" # GLEAM catalogue FITS file\n",
    "  field_radius_deg: 10.0            # Radius of field of view (degrees)\n",
    "\n",
    "  # Imaging parameters using wsclean. Optional. Comment to disable.\n",
    "  create_dirty_image: true          # Whether to run wsclean imaging\n",
    "  image_size: 1024                  # Image size (pixels)\n",
    "  pixel_size: \"2arcsec\"             # Pixel size (angular units)\n",
    "\n",
    "  # Extra parameters to pass directly to run_oskar.py\n",
    "  run_oskar_extra_params: \"--use-gpus --double-precision\"\n",
    "```\n",
    "\n",
    "Follow steps mentioned in confluence page for data and enviornment setup. Run the following command to simulate visibilities. \n",
    "`python run_sim.py custom_sim.yaml`\n",
    "\n",
    "This simulation doesn't have any corruptions. With the above config simulation script images the simulated visibilities, these images can be used for further verification. \n"
   ]
  },
  {
   "cell_type": "code",
   "execution_count": 2,
   "id": "d7865f49-7b3f-4421-9471-510cd3155636",
   "metadata": {},
   "outputs": [],
   "source": [
    "## Setup\n",
    "\n",
    "input_data = \"../datasets/visibility.scan-300.ms/\"\n",
    "cache = (\n",
    "    \"/home/maniaddhanki/workspace/SKAO/ska-sdp-instrumental-calibration/cach\"\n",
    ")\n",
    "artifacts_prefix_path = \"./predict_artifacts/\"\n",
    "upstream_output = UpstreamOutput()"
   ]
  },
  {
   "cell_type": "code",
   "execution_count": 3,
   "id": "eb61251e-21aa-4663-aef9-fa71b689f9af",
   "metadata": {
    "scrolled": true
   },
   "outputs": [
    {
     "name": "stdout",
     "output_type": "stream",
     "text": [
      "1|2025-10-09T04:01:26.299Z|INFO|MainThread|load_data_stage|load_data.py#181||Reading cached visibilities from path /home/maniaddhanki/workspace/SKAO/ska-sdp-instrumental-calibration/cach/visibility.scan-300.ms_fid0_ddid0\n"
     ]
    },
    {
     "data": {
      "text/plain": [
       "<ska_sdp_instrumental_calibration.scheduler.UpstreamOutput at 0x7b1c406ce320>"
      ]
     },
     "execution_count": 3,
     "metadata": {},
     "output_type": "execute_result"
    }
   ],
   "source": [
    "## Load data\n",
    "\n",
    "nchannels_per_chunk = 32\n",
    "ntimes_per_chunk = 5\n",
    "cache_directory = cache\n",
    "ack = False\n",
    "datacolumn = \"DATA\"\n",
    "field_id = 0\n",
    "data_desc_id = 0\n",
    "_cli_args_ = {\"input\": input_data}\n",
    "_output_dir_ = artifacts_prefix_path\n",
    "\n",
    "load_data_stage.stage_definition(\n",
    "    upstream_output,\n",
    "    nchannels_per_chunk,\n",
    "    ntimes_per_chunk,\n",
    "    cache_directory,\n",
    "    ack,\n",
    "    datacolumn,\n",
    "    field_id,\n",
    "    data_desc_id,\n",
    "    _cli_args_,\n",
    "    _output_dir_,\n",
    ")"
   ]
  },
  {
   "cell_type": "code",
   "execution_count": null,
   "id": "205b6122-0813-43bc-972c-413c5abb7da9",
   "metadata": {
    "scrolled": true
   },
   "outputs": [],
   "source": [
    "## prediction\n",
    "\n",
    "beam_type = \"everybeam\"\n",
    "normalise_at_beam_center = True\n",
    "eb_ms = None\n",
    "eb_coeffs = \"/home/ska/Work/data/INST/sim/coeffs\"\n",
    "gleamfile = None  # \"/home/maniaddhanki/workspace/SKAO/datasets/sky_models/gleamegc.dat\"\n",
    "lsm_csv_path = \"/home/ska/Work/data/INST/lg3/sky_model_cal.csv\"\n",
    "fov = 10.0\n",
    "flux_limit = 1.0\n",
    "alpha0 = -0.78\n",
    "_cli_args_ = {\"input\": input_data}\n",
    "\n",
    "predict_vis_stage.stage_definition(\n",
    "    upstream_output,\n",
    "    beam_type,\n",
    "    normalise_at_beam_center,\n",
    "    eb_ms,\n",
    "    eb_coeffs,\n",
    "    gleamfile,\n",
    "    lsm_csv_path,\n",
    "    fov,\n",
    "    flux_limit,\n",
    "    alpha0,\n",
    "    _cli_args_,\n",
    ")"
   ]
  },
  {
   "cell_type": "code",
   "execution_count": 5,
   "id": "aa850a39-6e4c-40db-94e0-a31fd0647bf3",
   "metadata": {},
   "outputs": [],
   "source": [
    "## computation\n",
    "\n",
    "input_vis = upstream_output.vis.compute()\n",
    "model_vis = upstream_output.modelvis.compute()"
   ]
  },
  {
   "cell_type": "code",
   "execution_count": 6,
   "id": "0037f63f-19e7-47dd-a5fd-642d5897e4c3",
   "metadata": {},
   "outputs": [],
   "source": [
    "## Export Model visibilities\n",
    "\n",
    "ms_path = os.path.join(artifacts_prefix_path, \"inst_predicted_model.ms\")\n",
    "export_visibility_to_ms(ms_path, [model_vis])"
   ]
  },
  {
   "cell_type": "code",
   "execution_count": 7,
   "id": "dcbb0d04-d60a-4c6f-9f24-ec9d45747113",
   "metadata": {},
   "outputs": [],
   "source": [
    "## Amp vs UV wave\n",
    "\n",
    "\n",
    "def get_uv_wave(uvw, frequency):\n",
    "    c = 3e8\n",
    "    wavelength = c / frequency\n",
    "    uvw_t = uvw.transpose(\"spatial\", \"time\", \"baselineid\")\n",
    "    return ((uvw_t[0] ** 2 + uvw_t[1] ** 2) ** 0.5) / wavelength\n",
    "\n",
    "\n",
    "def plot_amp_uv_wave(input_vis, model_vis, prefix_path):\n",
    "    fig = plt.figure(layout=\"constrained\", figsize=(10, 5))\n",
    "    fig.suptitle(\"Amp vs UVWave\", fontsize=16)\n",
    "    input_fig, model_fig = fig.subplots(1, 2)\n",
    "\n",
    "\n",
    "def plot_uv_waves(input_vis, model_vis, prefix_path):\n",
    "    fig = plt.figure(layout=\"constrained\", figsize=(10, 5))\n",
    "    fig.suptitle(\"Amp vs UVWave\", fontsize=16)\n",
    "    input_fig, model_fig = fig.subplots(1, 2)\n",
    "\n",
    "    input_fig.set_ylim(0, 100)\n",
    "    input_fig.set_title(\"Input visibilities\")\n",
    "    input_fig.set_xlabel(\"UVwave (λ)\")\n",
    "    input_fig.set_ylabel(\"amp\")\n",
    "    input_fig.scatter(\n",
    "        abs(\n",
    "            get_uv_wave(input_vis.uvw, input_vis.frequency).stack(\n",
    "                flatted_dim=(\"time\", \"baselineid\", \"frequency\")\n",
    "            )\n",
    "        ),\n",
    "        abs(\n",
    "            input_vis.vis.isel(polarisation=0).stack(\n",
    "                flatted_dim=(\"time\", \"baselineid\", \"frequency\")\n",
    "            )\n",
    "        ),\n",
    "        s=1.0,\n",
    "    )\n",
    "\n",
    "    model_fig.set_ylim(0, 100)\n",
    "    model_fig.set_title(\"Inst Predicted Model visibilitites\")\n",
    "    model_fig.set_xlabel(\"UVwave (λ)\")\n",
    "    model_fig.set_ylabel(\"amp\")\n",
    "    model_fig.scatter(\n",
    "        abs(\n",
    "            get_uv_wave(model_vis.uvw, model_vis.frequency).stack(\n",
    "                flatted_dim=(\"time\", \"baselineid\", \"frequency\")\n",
    "            )\n",
    "        ),\n",
    "        abs(\n",
    "            model_vis.vis.isel(polarisation=0).stack(\n",
    "                flatted_dim=(\"time\", \"baselineid\", \"frequency\")\n",
    "            )\n",
    "        ),\n",
    "        s=1.0,\n",
    "    )\n",
    "\n",
    "    fig.savefig(f\"{prefix_path}/amp-uvwave.png\")\n",
    "    plt.close(fig)"
   ]
  },
  {
   "cell_type": "code",
   "execution_count": 8,
   "id": "05ff85b7-273d-4f7d-8c3d-48fc70e94fa2",
   "metadata": {},
   "outputs": [],
   "source": [
    "## Plotting Amp vs uv wave\n",
    "\n",
    "plot_amp_uv_wave(input_vis, model_vis, artifacts_prefix_path)"
   ]
  },
  {
   "cell_type": "code",
   "execution_count": null,
   "id": "867605c6-1495-4ffd-9b7f-b9bcd235dd44",
   "metadata": {},
   "outputs": [],
   "source": [
    "## Amp vs Channel\n",
    "\n",
    "\n",
    "def plot_amp_freq(\n",
    "    model_vis, time_step, start_baseline, end_baseline, prefix_path\n",
    "):\n",
    "    fig = plt.figure(layout=\"constrained\", figsize=(10, 5))\n",
    "    fig.suptitle(\"Amp vs Frequency\", fontsize=16)\n",
    "    xx_ax, yy_ax = fig.subplots(1, 2)\n",
    "\n",
    "    xx_ax.set_title(\"Input XX\")\n",
    "    xx_ax.set_xlabel(\"Channel\")\n",
    "    xx_ax.set_ylabel(\"Amp\")\n",
    "\n",
    "    yy_ax.set_title(\"Input YY\")\n",
    "    yy_ax.set_xlabel(\"Channel\")\n",
    "    yy_ax.set_ylabel(\"Amp\")\n",
    "    baselines = input_vis.baselineid.values\n",
    "\n",
    "    for i in range(start_baseline, end_baseline):\n",
    "        xx_ax.plot(\n",
    "            abs(model_vis.vis.isel(time=0, baselineid=i, polarisation=0)),\n",
    "            label=baselines[i],\n",
    "        )\n",
    "        yy_ax.plot(\n",
    "            abs(model_vis.vis.isel(time=0, baselineid=i, polarisation=3)),\n",
    "            label=baselines[i],\n",
    "        )\n",
    "\n",
    "    handles, labels = xx_ax.get_legend_handles_labels()\n",
    "    fig.legend(handles, labels, title=\"Baselines\", loc=\"outside center right\")\n",
    "    fig.savefig(f\"{prefix_path}/amp-freq.png\")\n",
    "\n",
    "    plt.close(fig)"
   ]
  },
  {
   "cell_type": "code",
   "execution_count": null,
   "id": "2472f290-4f2e-4cc2-b14f-bd2871ea4166",
   "metadata": {},
   "outputs": [],
   "source": [
    "## Plotting Amp vs channel for model vis\n",
    "plot_amp_freq(model_vis, 10, 40, 50, artifacts_prefix_path)"
   ]
  },
  {
   "cell_type": "code",
   "execution_count": null,
   "id": "7ff93b5b-a916-46c6-9d94-e1b317477a7c",
   "metadata": {},
   "outputs": [],
   "source": [
    "## Imaging\n",
    "\n",
    "### Input visibilities. These visibilities need beam correction. DP3 is used to correct beam and then imaged using wsclean. These are exact same steps done in simulation script\n",
    "\n",
    "corrected_ms = f\"{artifacts_prefix_path}/visibility.scan-300.beamcor.ms\"\n",
    "!DP3 msin=$input_data steps=[applybeam] msout=$corrected_ms\n",
    "\n",
    "cell_size = 1024\n",
    "pixel_size = \"2arcsec\"\n",
    "input_image_name = f\"{artifacts_prefix_path}/input\"\n",
    "model_image_name = f\"{artifacts_prefix_path}/inst_predicted_model\"\n",
    "!wsclean -size $cell_size $cell_size -scale $pixel_size -niter 0 -name $input_image_name $corrected_ms\n",
    "!wsclean -size $cell_size $cell_size -scale $pixel_size -niter 0 -name $model_image_name \"$artifacts_prefix_path/inst_predicted_model.ms\"\n",
    "\n",
    "!rm -rf $corrected_ms"
   ]
  }
 ],
 "metadata": {
  "kernelspec": {
   "display_name": "Python 3 (ipykernel)",
   "language": "python",
   "name": "python3"
  },
  "language_info": {
   "codemirror_mode": {
    "name": "ipython",
    "version": 3
   },
   "file_extension": ".py",
   "mimetype": "text/x-python",
   "name": "python",
   "nbconvert_exporter": "python",
   "pygments_lexer": "ipython3",
   "version": "3.10.12"
  }
 },
 "nbformat": 4,
 "nbformat_minor": 5
}
