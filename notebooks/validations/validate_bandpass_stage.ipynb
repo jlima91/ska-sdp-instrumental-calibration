{
 "cells": [
  {
   "cell_type": "markdown",
   "id": "6df50480",
   "metadata": {},
   "source": [
    "# Validate Bandpass Polarisation Stage"
   ]
  },
  {
   "cell_type": "markdown",
   "id": "e087f630",
   "metadata": {},
   "source": [
    "## Imports"
   ]
  },
  {
   "cell_type": "code",
   "execution_count": null,
   "id": "9b32f07a",
   "metadata": {},
   "outputs": [],
   "source": [
    "from ska_sdp_instrumental_calibration.workflow.stages.bandpass_calibration import (\n",
    "    bandpass_calibration_stage,\n",
    ")\n",
    "\n",
    "from ska_sdp_instrumental_calibration.data_managers.dask_wrappers import run_solver\n",
    "\n",
    "from ska_sdp_instrumental_calibration.data_managers.visibility import (\n",
    "    read_dataset_from_zarr,\n",
    "    write_ms_to_zarr,\n",
    ")\n",
    "from ska_sdp_instrumental_calibration.workflow.utils import (\n",
    "    create_bandpass_table,\n",
    "    with_chunks,\n",
    ")\n",
    "from ska_sdp_datamodels.calibration.calibration_create import (\n",
    "    create_gaintable_from_visibility,\n",
    ")\n",
    "\n",
    "from ska_sdp_instrumental_calibration.data_managers.data_export.export_to_h5parm import (\n",
    "    export_gaintable_to_h5parm,\n",
    ")\n",
    "\n",
    "from ska_sdp_instrumental_calibration.data_managers.dask_wrappers import (\n",
    "    apply_gaintable_to_dataset,\n",
    "    prediction_central_beams,\n",
    ")\n",
    "\n",
    "\n",
    "import dask\n",
    "\n",
    "import numpy as np\n",
    "import xarray as xr\n",
    "\n",
    "import os\n",
    "from typing import Literal\n",
    "\n",
    "import glob\n",
    "import h5py\n",
    "\n",
    "%matplotlib inline\n",
    "import matplotlib.pyplot as plt"
   ]
  },
  {
   "cell_type": "code",
   "execution_count": null,
   "id": "1cfa5a55",
   "metadata": {},
   "outputs": [],
   "source": [
    "# If you need to connect to a dask client\n",
    "from distributed import Client\n",
    "\n",
    "scheduler = \"localhost:34567\"\n",
    "\n",
    "client = Client(scheduler)"
   ]
  },
  {
   "cell_type": "markdown",
   "id": "26f55981",
   "metadata": {},
   "source": [
    "## Generate data"
   ]
  },
  {
   "cell_type": "markdown",
   "id": "204f82f7",
   "metadata": {},
   "source": [
    "We use the scripts stored in `scripts/ska_low_sim` to generate the data.\n",
    "Information about how to use the scripts is present in this [confluence page](https://confluence.skatelescope.org/x/eZHMF)."
   ]
  },
  {
   "cell_type": "markdown",
   "id": "6bc71ddf",
   "metadata": {},
   "source": [
    "### Simulation config"
   ]
  },
  {
   "cell_type": "markdown",
   "id": "b0afd084",
   "metadata": {},
   "source": [
    "The following is the custom configuration used for simulation (further referred to as `custom_sim.yaml`)"
   ]
  },
  {
   "cell_type": "markdown",
   "id": "2b69a13b",
   "metadata": {},
   "source": [
    "```yaml\n",
    "scenario: \"low40s-model\"          # Scenario name (used for output folder prefix)\n",
    "\n",
    "# ===============================\n",
    "# Global simulation parameters\n",
    "# ===============================\n",
    "\n",
    "n_stations: 40                                         # Number of stations\n",
    "tel_model: \"./SKA-Low_AA2_40S_rigid-rotation_model.tm\" # Telescope model directory\n",
    "\n",
    "simulation_start_frequency_hz: 123.0e6                  # Start frequency (Hz)\n",
    "simulation_end_frequency_hz: 153.0e6                    # End frequency (Hz)\n",
    "correlated_channel_bandwidth_hz: 21.70138888888889e3    # Channel width (Hz)\n",
    "\n",
    "observing_time_mins: 10                              # Observation duration (minutes)\n",
    "sampling_time_sec: 3.3973862400000003                   # Dump/integration time (seconds)\n",
    "\n",
    "fields:\n",
    "  EoR2:\n",
    "    Cal1:\n",
    "      ra_deg: 197.914612\n",
    "      dec_deg: -22.277973\n",
    "      scan_id_start: 300\n",
    "      transit_time: \"2000-01-03 22:33:30.000\"\n",
    "\n",
    "# ==================================\n",
    "# Options for generate_gaintable.py\n",
    "# ==================================\n",
    "\n",
    "generate_gaintable:\n",
    "  output_gaintable: &gen_gaintable \"./gaintables/custom_gaintable.h5\"\n",
    "\n",
    "  spline_data_path: \"./SKA_Low_AA2_SP5175_spline_data.npz\" # Bandpass spline data file\n",
    "  station_offset: true              # Apply per-station amplitude/phase offsets\n",
    "  time_variant: true                # Apply time-dependent effects\n",
    "\n",
    "  rfi: false                        # Inject RFI band\n",
    "  rfi_start_freq_hz: 154.25347222228538e6        # Hz\n",
    "  rfi_end_freq_hz: 159.8090277778474e6           # Hz\n",
    "\n",
    "  plot: true                        # Generate diagnostic plots\n",
    "  plot_output_dir: \"./gaintables/generation_plots/\"\n",
    "\n",
    "# ===============================\n",
    "# Options for run_sim.py\n",
    "# ===============================\n",
    "\n",
    "run_sim:\n",
    "  oskar_sif: \"./OSKAR-2.11.1-Python3.sif\" # Path to OSKAR Singularity image\n",
    "\n",
    "  # GLEAM sky model. Optional. Comment to disable.\n",
    "  gleam_file: \"./sky-models/GLEAM_EGC.fits\" # GLEAM catalogue FITS file\n",
    "  field_radius_deg: 10.0            # Radius of field of view (degrees)\n",
    "\n",
    "  # Corruptions to be applied. All are optional. Comment to disable.\n",
    "  # gaintable: *gen_gaintable           # Gaintable containing bandpass corruptions\n",
    "  # cable_delay: \"./cable_delays/cable_length_error_40s.txt\" # Cable delay error file\n",
    "  # tec_screen: \"./tec/calibrator_iono_tec.fits\" # Ionospheric TEC screen FITS\n",
    "\n",
    "  # Imaging parameters using wsclean. Optional. Comment to disable.\n",
    "  create_dirty_image: true          # Whether to run wsclean imaging\n",
    "  image_size: 1024                  # Image size (pixels)\n",
    "  pixel_size: \"2arcsec\"             # Pixel size (angular units)\n",
    "\n",
    "  # Extra parameters to pass directly to run_oskar.py\n",
    "  run_oskar_extra_params: \"--use-gpus --double-precision\"\n",
    "  ```"
   ]
  },
  {
   "cell_type": "markdown",
   "id": "399a0000",
   "metadata": {},
   "source": [
    "### Overview of steps followed"
   ]
  },
  {
   "cell_type": "markdown",
   "id": "bf811f6c",
   "metadata": {},
   "source": [
    "Assuming the you have followed steps on the [confluence page](https://confluence.skatelescope.org/x/eZHMF) to get the data and setup python environment, here are the general steps to follow to simulate the data needed to run this script:"
   ]
  },
  {
   "cell_type": "markdown",
   "id": "19b62318",
   "metadata": {},
   "source": [
    "1. Create custom gaintable using the the above config and generate_gaintable script\n",
    "\n",
    "    ```bash\n",
    "    python3 generate_gaintable.py custom_sim.yaml\n",
    "    ```\n",
    "\n",
    "2. Convert gaintable to DP3 h5parm file\n",
    "\n",
    "    ```bash\n",
    "    python3 utils/h5parm_from_oskar_gains.py custom_sim.yaml \"./gaintables/custom_gaintable.h5\"\n",
    "    ```\n",
    "\n",
    "3. Create \"model\" visibilities\n",
    "\n",
    "    ```bash\n",
    "    python run_sim.py custom_sim.yaml\n",
    "    ```\n",
    "\n",
    "4. Apply the corruptions using DP3 to create corrupted visibilities\n",
    "\n",
    "    ```bash\n",
    "    msin=\"path_to_the_model_visibilities\"\n",
    "    parmdb=\"./gaintables/custom_gaintable.h5parm\"\n",
    "    mout=\"corrupted_visibilities.ms\"\n",
    "    DP3_CMD=${DP3_CMD:-\"DP3\"}\n",
    "\n",
    "    ${DP3_CMD} steps=\"[applycal]\" msin=${msin}\\\n",
    "\t  applycal.invert=False applycal.parmdb=${parmdb}\\\n",
    "\t  applycal.missingantennabehavior=flag applycal.updateweights=True\\\n",
    "\t  applycal.steps=\"[phase, amplitude]\" applycal.phase.correction=phase000\\\n",
    "\t  applycal.amplitude.correction=amplitude000 msout=${msout}\n",
    "    ```\n"
   ]
  },
  {
   "cell_type": "markdown",
   "id": "dfcf4f61",
   "metadata": {},
   "source": [
    "## Setup common parameters"
   ]
  },
  {
   "cell_type": "code",
   "execution_count": null,
   "id": "473b1e66",
   "metadata": {},
   "outputs": [],
   "source": [
    "# Set these paths to the simulated data generated in previous steps\n",
    "\n",
    "vis_ms = \"/home/ska/Work/data-simulation/low40s-model-250925_120444/visibility.scan-300.corrupt.ms\"\n",
    "model_ms = (\n",
    "    \"/home/ska/Work/data-simulation/low40s-model-250925_120444/visibility.scan-300.ms\"\n",
    ")\n",
    "sim_gaintable = \"/home/ska/Work/data-simulation/low40s-model-250925_120444/customgaintable/gain_model_cal.h5\"\n",
    "dp3_gaintable = \"/home/ska/Work/data-simulation/low40s-model-250925_120444/customgaintable/gain_model_cal_dp3.h5parm\"\n",
    "\n",
    "# Zarr conversion params\n",
    "nchannels_per_chunk = 20\n",
    "ntimes_per_ms_chunk = 20\n",
    "\n",
    "# Everybeam related params\n",
    "beam_type = \"everybeam\"\n",
    "eb_coeffs = \"/home/ska/Work/data/INST/sim/coeffs\"\n",
    "eb_ms = vis_ms\n",
    "\n",
    "# Normalise visibility at beam centre\n",
    "normalise_at_beam_centre = True\n",
    "\n",
    "# Solver params\n",
    "solver: str = \"gain_substitution\"\n",
    "refant: int = 0\n",
    "niter: int = 100\n",
    "phase_only: bool = False\n",
    "tol: float = 1e-06\n",
    "crosspol: bool = False\n",
    "normalise_gains: str = None\n",
    "jones_type: Literal[\"T\", \"G\", \"B\"] = \"B\"\n",
    "timeslice: float = None\n",
    "\n",
    "run_solver_params = dict(\n",
    "solver=solver,\n",
    "refant=refant,\n",
    "niter=niter,\n",
    "phase_only=phase_only,\n",
    "tol=tol,\n",
    "crosspol=crosspol,\n",
    "normalise_gains=normalise_gains,\n",
    "jones_type=jones_type,\n",
    "timeslice=timeslice,)"
   ]
  },
  {
   "cell_type": "markdown",
   "id": "be0544f8",
   "metadata": {},
   "source": [
    "## Convert MS to Zarr files"
   ]
  },
  {
   "cell_type": "code",
   "execution_count": null,
   "id": "06e2cd91",
   "metadata": {},
   "outputs": [],
   "source": [
    "# Common dimensions across zarr and loaded visibility dataset\n",
    "non_chunked_dims = {\n",
    "    dim: -1\n",
    "    for dim in [\n",
    "        \"baselineid\",\n",
    "        \"polarisation\",\n",
    "        \"spatial\",\n",
    "    ]\n",
    "}\n",
    "\n",
    "# This is chunking of the intermidiate zarr file\n",
    "zarr_chunks = {\n",
    "    **non_chunked_dims,\n",
    "    \"time\": ntimes_per_ms_chunk,\n",
    "    \"frequency\": nchannels_per_chunk,\n",
    "}\n",
    "\n",
    "# Pipeline only works on frequency chunks\n",
    "# Its expected that later stages follow same chunking pattern\n",
    "vis_chunks = {\n",
    "    **non_chunked_dims,\n",
    "    \"time\": -1,\n",
    "    \"frequency\": nchannels_per_chunk,\n",
    "}"
   ]
  },
  {
   "cell_type": "code",
   "execution_count": null,
   "id": "373e5a0e",
   "metadata": {},
   "outputs": [],
   "source": [
    "working_dir = os.getcwd()\n",
    "\n",
    "vis_cache_directory = f\"{working_dir}/cache/vis/\"\n",
    "model_cache_directory = f\"{working_dir}/cache/model/\""
   ]
  },
  {
   "cell_type": "markdown",
   "id": "1f05928b",
   "metadata": {},
   "source": [
    "## Load visibilities from zarr and create initial gaintable"
   ]
  },
  {
   "cell_type": "code",
   "execution_count": null,
   "id": "7e6d0798",
   "metadata": {},
   "outputs": [],
   "source": [
    "vis_ds = read_dataset_from_zarr(vis_cache_directory, vis_chunks)\n",
    "\n",
    "model_ds = read_dataset_from_zarr(model_cache_directory, vis_chunks)\n",
    "# Fix to ensure that time coords match\n",
    "model_ds = model_ds.assign_coords({\"time\": vis_ds.time})"
   ]
  },
  {
   "cell_type": "code",
   "execution_count": null,
   "id": "1abd7a7b",
   "metadata": {},
   "outputs": [],
   "source": [
    "gaintable = create_bandpass_table(vis_ds).pipe(with_chunks, vis_chunks)\n",
    "\n",
    "# gaintable = create_gaintable_from_visibility(vis_ds, jones_type='B', timeslice=None)"
   ]
  },
  {
   "cell_type": "markdown",
   "id": "a663ea74",
   "metadata": {},
   "source": [
    "## Normalise at beam center"
   ]
  },
  {
   "cell_type": "code",
   "execution_count": null,
   "id": "52b30493",
   "metadata": {},
   "outputs": [],
   "source": [
    "def plot_vis(\n",
    "    vis_ds: xr.Dataset,\n",
    "    time: int,\n",
    "    baselineid: int,\n",
    "    polarisation: int,\n",
    "    figsize=(10, 6),\n",
    "    savepath=None,\n",
    "):\n",
    "    \"\"\"\n",
    "    Plot amplitude and phase of complex visibilities from an xarray Dataset.\n",
    "\n",
    "    Parameters\n",
    "    ----------\n",
    "    vis_ds : xr.Dataset\n",
    "        Dataset containing a complex-valued DataArray named 'vis'.\n",
    "    time : int\n",
    "        Index along the 'time' dimension.\n",
    "    baselineid : int\n",
    "        Index along the 'baselineid' dimension.\n",
    "    polarisation : int\n",
    "        Index along the 'polarisation' dimension.\n",
    "    figsize : tuple, optional\n",
    "        Figure size (width, height) in inches. Default is (10, 6).\n",
    "    savepath : str, optional\n",
    "        If provided, saves the plot to the given path.\n",
    "    \"\"\"\n",
    "    # Extract the selected visibility slice\n",
    "    vis = vis_ds.vis.isel(time=time, baselineid=baselineid, polarisation=polarisation)\n",
    "\n",
    "    # Ensure we have a frequency dimension for the x-axis\n",
    "    freq = vis_ds.coords.get(\"frequency\", np.arange(vis.size))\n",
    "\n",
    "    amp = np.abs(vis)\n",
    "    phase = np.angle(vis, deg=True)  # Convert phase to degrees\n",
    "\n",
    "    fig, (ax1, ax2) = plt.subplots(2, 1, figsize=figsize, sharex=True)\n",
    "\n",
    "    # Plot amplitude\n",
    "    ax1.plot(freq, amp, color=\"tab:blue\")\n",
    "    ax1.set_ylabel(\"Amplitude\")\n",
    "    ax1.set_title(f\"Baseline {baselineid}, Time {time}, Pol {polarisation}\")\n",
    "\n",
    "    # Plot phase\n",
    "    ax2.plot(freq, phase, color=\"tab:orange\")\n",
    "    ax2.set_ylabel(\"Phase [deg]\")\n",
    "    ax2.set_xlabel(\"Frequency\" if \"frequency\" in vis_ds.coords else \"Channel index\")\n",
    "\n",
    "    plt.tight_layout()\n",
    "\n",
    "    if savepath:\n",
    "        plt.savefig(savepath, dpi=150)\n",
    "        plt.close(fig)\n",
    "    else:\n",
    "        plt.show()"
   ]
  },
  {
   "cell_type": "code",
   "execution_count": null,
   "id": "cb587b37",
   "metadata": {},
   "outputs": [],
   "source": [
    "time = 15\n",
    "baselineid = 50\n",
    "polarisation = 0"
   ]
  },
  {
   "cell_type": "markdown",
   "id": "ad5a4d19",
   "metadata": {},
   "source": [
    "### Plotting visibility before normalising"
   ]
  },
  {
   "cell_type": "code",
   "execution_count": null,
   "id": "39f85204",
   "metadata": {},
   "outputs": [],
   "source": [
    "plot_vis(vis_ds, time=time, baselineid=baselineid, polarisation=polarisation)"
   ]
  },
  {
   "cell_type": "code",
   "execution_count": null,
   "id": "e755e56a",
   "metadata": {},
   "outputs": [],
   "source": [
    "plot_vis(model_ds, time=time, baselineid=baselineid, polarisation=polarisation)"
   ]
  },
  {
   "cell_type": "markdown",
   "id": "0a8f5dfa",
   "metadata": {},
   "source": [
    "### Normalise visibility"
   ]
  },
  {
   "cell_type": "code",
   "execution_count": null,
   "id": "33c73ab8",
   "metadata": {},
   "outputs": [],
   "source": [
    "if normalise_at_beam_centre:\n",
    "    beams = prediction_central_beams(\n",
    "        vis_ds,\n",
    "        beam_type=beam_type,\n",
    "        eb_ms=eb_ms,\n",
    "        eb_coeffs=eb_coeffs,\n",
    "    ).persist()\n",
    "\n",
    "    vis_ds = apply_gaintable_to_dataset(vis_ds, beams, inverse=True)\n",
    "    model_ds = apply_gaintable_to_dataset(model_ds, beams, inverse=True)"
   ]
  },
  {
   "cell_type": "markdown",
   "id": "d595a7ba",
   "metadata": {},
   "source": [
    "### Plotting after normalising"
   ]
  },
  {
   "cell_type": "code",
   "execution_count": null,
   "id": "6ee303cc",
   "metadata": {},
   "outputs": [],
   "source": [
    "plot_vis(vis_ds, time=time, baselineid=baselineid, polarisation=polarisation)"
   ]
  },
  {
   "cell_type": "code",
   "execution_count": null,
   "id": "22e8ae95",
   "metadata": {},
   "outputs": [],
   "source": [
    "plot_vis(model_ds, time=time, baselineid=baselineid, polarisation=polarisation)"
   ]
  },
  {
   "cell_type": "markdown",
   "id": "53078783",
   "metadata": {},
   "source": [
    "## Running calibration and exporting gaintable"
   ]
  },
  {
   "cell_type": "markdown",
   "id": "708e978f",
   "metadata": {},
   "source": [
    "### run_solver"
   ]
  },
  {
   "cell_type": "code",
   "execution_count": null,
   "id": "4363cf0d",
   "metadata": {},
   "outputs": [],
   "source": [
    "# output_dir = f\"{working_dir}/run_solver_{solver}_{niter}/\"\n",
    "\n",
    "# os.makedirs(output_dir, exist_ok=True)"
   ]
  },
  {
   "cell_type": "code",
   "execution_count": null,
   "id": "fbe7a9f9",
   "metadata": {},
   "outputs": [],
   "source": [
    "# gaintable = run_solver(\n",
    "#     vis_ds,\n",
    "#     model_ds,\n",
    "#     gaintable,\n",
    "#     **run_solver_params,\n",
    "# )"
   ]
  },
  {
   "cell_type": "code",
   "execution_count": null,
   "id": "4682ff88",
   "metadata": {},
   "outputs": [],
   "source": [
    "# export_task = dask.delayed(export_gaintable_to_h5parm, pure=False)(\n",
    "#     gaintable,\n",
    "#     f\"{output_dir}/gaintable.h5parm\",\n",
    "# )"
   ]
  },
  {
   "cell_type": "code",
   "execution_count": null,
   "id": "1e9fe8ad",
   "metadata": {},
   "outputs": [],
   "source": [
    "# client.compute(export_task, sync=True, optimize_graph=True)"
   ]
  },
  {
   "cell_type": "code",
   "execution_count": null,
   "id": "f074bf1b",
   "metadata": {},
   "outputs": [],
   "source": [
    "# client.restart()"
   ]
  },
  {
   "cell_type": "markdown",
   "id": "21954be2",
   "metadata": {},
   "source": [
    "### bandpass_calibration stage"
   ]
  },
  {
   "cell_type": "code",
   "execution_count": null,
   "id": "217fabcc",
   "metadata": {},
   "outputs": [],
   "source": [
    "output_dir = f\"{working_dir}/bandpass_stage_{solver}_{niter}/\"\n",
    "\n",
    "os.makedirs(output_dir, exist_ok=True)"
   ]
  },
  {
   "cell_type": "code",
   "execution_count": null,
   "id": "558be180",
   "metadata": {},
   "outputs": [],
   "source": [
    "from ska_sdp_instrumental_calibration.scheduler import UpstreamOutput\n",
    "\n",
    "upstream_output = UpstreamOutput()\n",
    "\n",
    "upstream_output[\"vis\"] = vis_ds\n",
    "upstream_output[\"modelvis\"] = model_ds\n",
    "upstream_output[\"gaintable\"] = gaintable\n",
    "\n",
    "upout = bandpass_calibration_stage.stage_definition(\n",
    "    upstream_output,\n",
    "    run_solver_params,\n",
    "    {\"plot_table\": False, \"fixed_axis\": False},\n",
    "    \"vis\",\n",
    "    True,\n",
    "    output_dir,\n",
    ")"
   ]
  },
  {
   "cell_type": "code",
   "execution_count": null,
   "id": "5abc51ae",
   "metadata": {},
   "outputs": [],
   "source": [
    "client.compute(\n",
    "    upout.compute_tasks,\n",
    "    sync=True,\n",
    "    optimize_graph=True,\n",
    ")"
   ]
  },
  {
   "cell_type": "code",
   "execution_count": null,
   "id": "7b84bbf6",
   "metadata": {},
   "outputs": [],
   "source": [
    "# client.restart()"
   ]
  },
  {
   "cell_type": "markdown",
   "id": "c7215366",
   "metadata": {},
   "source": [
    "## Comparing h5parm files"
   ]
  },
  {
   "cell_type": "code",
   "execution_count": null,
   "id": "97b2c163",
   "metadata": {},
   "outputs": [],
   "source": [
    "output_h5_path = glob.glob(f\"{output_dir}/*.h5*\")[0]\n",
    "\n",
    "actual_gaintable = output_h5_path"
   ]
  },
  {
   "cell_type": "code",
   "execution_count": null,
   "id": "6c710197",
   "metadata": {},
   "outputs": [],
   "source": [
    "def suppress_exception(func, *args, **kwargs):\n",
    "    try:\n",
    "        return func(*args, **kwargs)\n",
    "    except Exception as e:\n",
    "        print(e, end=\"\\n\\n\")"
   ]
  },
  {
   "cell_type": "markdown",
   "id": "a57e4b8c",
   "metadata": {},
   "source": [
    "#### Compare oskar gains with DP3 gains"
   ]
  },
  {
   "cell_type": "code",
   "execution_count": null,
   "id": "c9d1707b",
   "metadata": {},
   "outputs": [],
   "source": [
    "with h5py.File(sim_gaintable) as sim_gain_f:\n",
    "    with h5py.File(dp3_gaintable) as dp3_gain_f:\n",
    "        for pol_id, pol in enumerate([\"x\", \"y\"]):\n",
    "            print(f\"Amplitude for pol {pol}\")\n",
    "            suppress_exception(\n",
    "                np.testing.assert_allclose,\n",
    "                np.abs(sim_gain_f[f\"gain_{pol}pol\"]),\n",
    "                dp3_gain_f[\"sol000\"][\"amplitude000\"][\"val\"][..., pol_id].transpose(\n",
    "                    0, 2, 1\n",
    "                ),\n",
    "            )\n",
    "\n",
    "            print(f\"Phase for pol {pol}\")\n",
    "            suppress_exception(\n",
    "                np.testing.assert_allclose,\n",
    "                np.angle(sim_gain_f[f\"gain_{pol}pol\"]),\n",
    "                dp3_gain_f[\"sol000\"][\"phase000\"][\"val\"][..., pol_id].transpose(0, 2, 1),\n",
    "            )"
   ]
  },
  {
   "cell_type": "markdown",
   "id": "4e03898d",
   "metadata": {},
   "source": [
    "#### Compare actual vs DP3, by averaging expected DP3 gains across time"
   ]
  },
  {
   "cell_type": "code",
   "execution_count": null,
   "id": "af9ba6a9",
   "metadata": {},
   "outputs": [],
   "source": [
    "with h5py.File(dp3_gaintable) as dp3_gain_f:\n",
    "    with h5py.File(actual_gaintable) as act_gain_f:\n",
    "        for pol_id, pol in zip([0, 1], [\"XX\", \"YY\"]):\n",
    "            print(f\"Amplitude for pol {pol}\")\n",
    "            suppress_exception(\n",
    "                np.testing.assert_allclose,\n",
    "                np.mean(\n",
    "                    dp3_gain_f[\"sol000\"][\"amplitude000\"][\"val\"][..., pol_id % 2],\n",
    "                    axis=0,\n",
    "                    keepdims=True,\n",
    "                )[..., :-1],\n",
    "                act_gain_f[\"sol000\"][\"amplitude000\"][\"val\"][..., pol_id],\n",
    "            )\n",
    "\n",
    "            print(f\"Phase for pol {pol}\")\n",
    "            suppress_exception(\n",
    "                np.testing.assert_allclose,\n",
    "                np.mean(\n",
    "                    dp3_gain_f[\"sol000\"][\"phase000\"][\"val\"][..., pol_id % 2],\n",
    "                    axis=0,\n",
    "                    keepdims=True,\n",
    "                )[..., :-1],\n",
    "                act_gain_f[\"sol000\"][\"phase000\"][\"val\"][..., pol_id],\n",
    "            )"
   ]
  },
  {
   "cell_type": "markdown",
   "id": "6fd29609",
   "metadata": {},
   "source": [
    "#### Compare actual vs DP3, by broadcasting expected DP3 gains across time"
   ]
  },
  {
   "cell_type": "code",
   "execution_count": null,
   "id": "a20f02b0",
   "metadata": {},
   "outputs": [],
   "source": [
    "with h5py.File(dp3_gaintable) as dp3_gain_f:\n",
    "    with h5py.File(actual_gaintable) as act_gain_f:\n",
    "        for pol_id, pol in zip([0, 1], [\"XX\", \"YY\"]):\n",
    "            print(f\"Amplitude for pol {pol}\")\n",
    "            expanded_act = []\n",
    "            for i in range(dp3_gain_f[\"sol000\"][\"amplitude000\"][\"val\"].shape[0]):\n",
    "                expanded_act.append(\n",
    "                    act_gain_f[\"sol000\"][\"amplitude000\"][\"val\"][..., pol_id]\n",
    "                )\n",
    "            expanded_act = np.concatenate(expanded_act)\n",
    "\n",
    "            suppress_exception(\n",
    "                np.testing.assert_allclose,\n",
    "                dp3_gain_f[\"sol000\"][\"amplitude000\"][\"val\"][..., pol_id % 2][..., :-1],\n",
    "                expanded_act,\n",
    "            )\n",
    "\n",
    "            print(f\"Phase for pol {pol}\")\n",
    "            expanded_act = []\n",
    "            for i in range(dp3_gain_f[\"sol000\"][\"phase000\"][\"val\"].shape[0]):\n",
    "                expanded_act.append(\n",
    "                    act_gain_f[\"sol000\"][\"phase000\"][\"val\"][..., pol_id]\n",
    "                )\n",
    "            expanded_act = np.concatenate(expanded_act)\n",
    "\n",
    "            suppress_exception(\n",
    "                np.testing.assert_allclose,\n",
    "                dp3_gain_f[\"sol000\"][\"phase000\"][\"val\"][..., pol_id % 2][..., :-1],\n",
    "                expanded_act,\n",
    "            )"
   ]
  },
  {
   "cell_type": "markdown",
   "id": "e5fea801",
   "metadata": {},
   "source": [
    "## Generate images"
   ]
  },
  {
   "cell_type": "code",
   "execution_count": null,
   "id": "28090a25",
   "metadata": {},
   "outputs": [],
   "source": [
    "os.environ['PATH'] = f\"/home/ska/spack/opt/spack/linux-ubuntu22.04-x86_64_v3/gcc-11.4.0/dp3-6.4.1-f6kotkx5la5ziuqge4vi2bwlnoizlqin/bin:/home/ska/spack/opt/spack/linux-ubuntu22.04-x86_64_v3/gcc-11.4.0/wsclean-3.6.20250630-biqw4junkbmxbtxtfnle5gymjiyoukhd/bin/:{os.environ['PATH']}\""
   ]
  },
  {
   "cell_type": "code",
   "execution_count": null,
   "id": "b639688e",
   "metadata": {},
   "outputs": [],
   "source": [
    "# Resolve wsclean / DP3 commands (use env vars if set)\n",
    "import shutil\n",
    "\n",
    "wsclean_cmd = os.environ.get(\"WSCLEAN_CMD\", \"wsclean\")\n",
    "# Early check: wsclean must exist\n",
    "if not shutil.which(wsclean_cmd):\n",
    "    raise Exception(\n",
    "        f\"wsclean command not found (looked for '{wsclean_cmd}'). \"\n",
    "        \"Either add wsclean to PATH, or set WSCLEAN_CMD environment variable pointing to the executable.\"\n",
    "    )\n",
    "\n",
    "dp3_cmd = os.environ.get(\"DP3_CMD\", \"DP3\")\n",
    "# Early check: DP3 must exist\n",
    "if not shutil.which(dp3_cmd):\n",
    "    raise Exception(\n",
    "        f\"DP3 command not found (looked for '{dp3_cmd}'). \"\n",
    "        \"Either add DP3 to PATH, or set DP3_CMD environment variable pointing to the executable.\"\n",
    "    )"
   ]
  },
  {
   "cell_type": "code",
   "execution_count": null,
   "id": "f9387357",
   "metadata": {},
   "outputs": [],
   "source": [
    "!cd $output_dir ; bash ../../../scripts/clean-with-gains -i $vis_ms -g $actual_gaintable -size 512 512 -scale 2arcsec &> log.txt"
   ]
  }
 ],
 "metadata": {
  "kernelspec": {
   "display_name": "ska-sdp-instrumental-calibration-vujiG8jS-py3.11",
   "language": "python",
   "name": "python3"
  },
  "language_info": {
   "codemirror_mode": {
    "name": "ipython",
    "version": 3
   },
   "file_extension": ".py",
   "mimetype": "text/x-python",
   "name": "python",
   "nbconvert_exporter": "python",
   "pygments_lexer": "ipython3",
   "version": "3.11.12"
  }
 },
 "nbformat": 4,
 "nbformat_minor": 5
}
