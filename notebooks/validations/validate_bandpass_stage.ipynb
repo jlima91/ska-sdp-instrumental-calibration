{
 "cells": [
  {
   "cell_type": "markdown",
   "id": "6df50480",
   "metadata": {},
   "source": [
    "# Validate Bandpass Polarisation Stage"
   ]
  },
  {
   "cell_type": "markdown",
   "id": "e087f630",
   "metadata": {},
   "source": [
    "## Imports"
   ]
  },
  {
   "cell_type": "code",
   "execution_count": null,
   "id": "9b32f07a",
   "metadata": {},
   "outputs": [],
   "source": [
    "from ska_sdp_instrumental_calibration.workflow.stages.bandpass_calibration import (\n",
    "    bandpass_calibration_stage,\n",
    ")\n",
    "\n",
    "from ska_sdp_instrumental_calibration.data_managers.dask_wrappers import run_solver\n",
    "\n",
    "from ska_sdp_instrumental_calibration.data_managers.visibility import (\n",
    "    read_dataset_from_zarr,\n",
    "    write_ms_to_zarr,\n",
    ")\n",
    "from ska_sdp_instrumental_calibration.workflow.utils import (\n",
    "    create_bandpass_table,\n",
    "    with_chunks,\n",
    ")\n",
    "from ska_sdp_datamodels.calibration.calibration_create import (\n",
    "    create_gaintable_from_visibility,\n",
    ")\n",
    "\n",
    "import numpy as np\n",
    "import xarray as xr\n",
    "\n",
    "import os"
   ]
  },
  {
   "cell_type": "code",
   "execution_count": null,
   "id": "1cfa5a55",
   "metadata": {},
   "outputs": [],
   "source": [
    "# If you need to connect to a dask client\n",
    "# from distributed import Client\n",
    "\n",
    "# client = Client()"
   ]
  },
  {
   "cell_type": "markdown",
   "id": "26f55981",
   "metadata": {},
   "source": [
    "## Generate data"
   ]
  },
  {
   "cell_type": "markdown",
   "id": "204f82f7",
   "metadata": {},
   "source": [
    "We use the scripts stored in `scripts/ska_low_sim` to generate the data.\n",
    "Information about how to use the scripts is present in this [confluence page](https://confluence.skatelescope.org/x/eZHMF)."
   ]
  },
  {
   "cell_type": "markdown",
   "id": "6bc71ddf",
   "metadata": {},
   "source": [
    "### Simulation config"
   ]
  },
  {
   "cell_type": "markdown",
   "id": "b0afd084",
   "metadata": {},
   "source": [
    "The following is the custom configuration used for simulation (further referred to as `custom_sim.yaml`)"
   ]
  },
  {
   "cell_type": "markdown",
   "id": "2b69a13b",
   "metadata": {},
   "source": [
    "```yaml\n",
    "scenario: \"low40s-model\"          # Scenario name (used for output folder prefix)\n",
    "\n",
    "# ===============================\n",
    "# Global simulation parameters\n",
    "# ===============================\n",
    "\n",
    "n_stations: 40                                         # Number of stations\n",
    "tel_model: \"./SKA-Low_AA2_40S_rigid-rotation_model.tm\" # Telescope model directory\n",
    "\n",
    "simulation_start_frequency_hz: 123.0e6                  # Start frequency (Hz)\n",
    "simulation_end_frequency_hz: 153.0e6                    # End frequency (Hz)\n",
    "correlated_channel_bandwidth_hz: 21.70138888888889e3    # Channel width (Hz)\n",
    "\n",
    "observing_time_mins: 10                              # Observation duration (minutes)\n",
    "sampling_time_sec: 3.3973862400000003                   # Dump/integration time (seconds)\n",
    "\n",
    "fields:\n",
    "  EoR2:\n",
    "    Cal1:\n",
    "      ra_deg: 197.914612\n",
    "      dec_deg: -22.277973\n",
    "      scan_id_start: 300\n",
    "      transit_time: \"2000-01-03 22:33:30.000\"\n",
    "\n",
    "# ==================================\n",
    "# Options for generate_gaintable.py\n",
    "# ==================================\n",
    "\n",
    "generate_gaintable:\n",
    "  output_gaintable: &gen_gaintable \"./gaintables/custom_gaintable.h5\"\n",
    "\n",
    "  spline_data_path: \"./SKA_Low_AA2_SP5175_spline_data.npz\" # Bandpass spline data file\n",
    "  station_offset: true              # Apply per-station amplitude/phase offsets\n",
    "  time_variant: true                # Apply time-dependent effects\n",
    "\n",
    "  rfi: false                        # Inject RFI band\n",
    "  rfi_start_freq_hz: 154.25347222228538e6        # Hz\n",
    "  rfi_end_freq_hz: 159.8090277778474e6           # Hz\n",
    "\n",
    "  plot: true                        # Generate diagnostic plots\n",
    "  plot_output_dir: \"./gaintables/generation_plots/\"\n",
    "\n",
    "# ===============================\n",
    "# Options for run_sim.py\n",
    "# ===============================\n",
    "\n",
    "run_sim:\n",
    "  oskar_sif: \"./OSKAR-2.11.1-Python3.sif\" # Path to OSKAR Singularity image\n",
    "\n",
    "  # GLEAM sky model. Optional. Comment to disable.\n",
    "  gleam_file: \"./sky-models/GLEAM_EGC.fits\" # GLEAM catalogue FITS file\n",
    "  field_radius_deg: 10.0            # Radius of field of view (degrees)\n",
    "\n",
    "  # Corruptions to be applied. All are optional. Comment to disable.\n",
    "  # gaintable: *gen_gaintable           # Gaintable containing bandpass corruptions\n",
    "  # cable_delay: \"./cable_delays/cable_length_error_40s.txt\" # Cable delay error file\n",
    "  # tec_screen: \"./tec/calibrator_iono_tec.fits\" # Ionospheric TEC screen FITS\n",
    "\n",
    "  # Imaging parameters using wsclean. Optional. Comment to disable.\n",
    "  create_dirty_image: true          # Whether to run wsclean imaging\n",
    "  image_size: 1024                  # Image size (pixels)\n",
    "  pixel_size: \"2arcsec\"             # Pixel size (angular units)\n",
    "\n",
    "  # Extra parameters to pass directly to run_oskar.py\n",
    "  run_oskar_extra_params: \"--use-gpus --double-precision\"\n",
    "  ```"
   ]
  },
  {
   "cell_type": "markdown",
   "id": "399a0000",
   "metadata": {},
   "source": [
    "### Overview of steps followed"
   ]
  },
  {
   "cell_type": "markdown",
   "id": "bf811f6c",
   "metadata": {},
   "source": [
    "Assuming the you have followed steps on the [confluence page](https://confluence.skatelescope.org/x/eZHMF) to get the data and setup python environment, here are the general steps to follow to simulate the data needed to run this script:"
   ]
  },
  {
   "cell_type": "markdown",
   "id": "19b62318",
   "metadata": {},
   "source": [
    "1. Create custom gaintable using the the above config and generate_gaintable script\n",
    "\n",
    "    ```bash\n",
    "    python3 generate_gaintable.py custom_sim.yaml\n",
    "    ```\n",
    "\n",
    "2. Convert gaintable to DP3 h5parm file\n",
    "\n",
    "    ```bash\n",
    "    python3 utils/h5parm_from_oskar_gains.py custom_sim.yaml \"./gaintables/custom_gaintable.h5\"\n",
    "    ```\n",
    "\n",
    "3. Create \"model\" visibilities\n",
    "\n",
    "    ```bash\n",
    "    python run_sim.py custom_sim.yaml\n",
    "    ```\n",
    "\n",
    "4. Apply the corruptions using DP3 to create corrupted visibilities\n",
    "\n",
    "    ```bash\n",
    "    msin=\"path_to_the_model_visibilities\"\n",
    "    parmdb=\"./gaintables/custom_gaintable.h5parm\"\n",
    "    mout=\"corrupted_visibilities.ms\"\n",
    "    DP3_CMD=${DP3_CMD:-\"DP3\"}\n",
    "\n",
    "    ${DP3_CMD} steps=\"[applycal]\" msin=${msin}\\\n",
    "\t  applycal.invert=False applycal.parmdb=${parmdb}\\\n",
    "\t  applycal.missingantennabehavior=flag applycal.updateweights=True\\\n",
    "\t  applycal.steps=\"[phase, amplitude]\" applycal.phase.correction=phase000\\\n",
    "\t  applycal.amplitude.correction=amplitude000 msout=${msout}\n",
    "    ```\n"
   ]
  },
  {
   "cell_type": "markdown",
   "id": "be0544f8",
   "metadata": {},
   "source": [
    "## Convert MS to Zarr files"
   ]
  },
  {
   "cell_type": "code",
   "execution_count": null,
   "id": "842fe9d8",
   "metadata": {},
   "outputs": [],
   "source": [
    "# Set these paths to the simulated data generated in previous steps\n",
    "\n",
    "vis_ms = \"\"\n",
    "model_ms = \"\""
   ]
  },
  {
   "cell_type": "code",
   "execution_count": null,
   "id": "b80b801f",
   "metadata": {},
   "outputs": [],
   "source": [
    "working_dir = os.getcwd()\n",
    "\n",
    "vis_cache_directory = f\"{working_dir}/cache/vis/\"\n",
    "model_cache_directory = f\"{working_dir}/cache/model/\"\n",
    "\n",
    "output_dir = f\"{working_dir}/output/\""
   ]
  },
  {
   "cell_type": "code",
   "execution_count": null,
   "id": "c8796450",
   "metadata": {},
   "outputs": [],
   "source": [
    "nchannels_per_chunk = 20\n",
    "ntimes_per_ms_chunk = 20\n",
    "\n",
    "# Common dimensions across zarr and loaded visibility dataset\n",
    "non_chunked_dims = {\n",
    "    dim: -1\n",
    "    for dim in [\n",
    "        \"baselineid\",\n",
    "        \"polarisation\",\n",
    "        \"spatial\",\n",
    "    ]\n",
    "}\n",
    "\n",
    "# This is chunking of the intermidiate zarr file\n",
    "zarr_chunks = {\n",
    "    **non_chunked_dims,\n",
    "    \"time\": ntimes_per_ms_chunk,\n",
    "    \"frequency\": nchannels_per_chunk,\n",
    "}\n",
    "\n",
    "# Pipeline only works on frequency chunks\n",
    "# Its expected that later stages follow same chunking pattern\n",
    "vis_chunks = {\n",
    "    **non_chunked_dims,\n",
    "    \"time\": -1,\n",
    "    \"frequency\": nchannels_per_chunk,\n",
    "}"
   ]
  },
  {
   "cell_type": "code",
   "execution_count": null,
   "id": "05949397",
   "metadata": {},
   "outputs": [],
   "source": [
    "write_ms_to_zarr(vis_ms, vis_cache_directory, zarr_chunks)"
   ]
  },
  {
   "cell_type": "code",
   "execution_count": null,
   "id": "3893bb75",
   "metadata": {},
   "outputs": [],
   "source": [
    "write_ms_to_zarr(model_ms, model_cache_directory, zarr_chunks)"
   ]
  },
  {
   "cell_type": "markdown",
   "id": "1f05928b",
   "metadata": {},
   "source": [
    "## Load visibilities from zarr and create initial gaintable"
   ]
  },
  {
   "cell_type": "code",
   "execution_count": null,
   "id": "7e6d0798",
   "metadata": {},
   "outputs": [],
   "source": [
    "vis_ds = read_dataset_from_zarr(vis_cache_directory, vis_chunks)\n",
    "\n",
    "model_ds = read_dataset_from_zarr(model_cache_directory, vis_chunks)\n",
    "# Fix to ensure that time coords match\n",
    "model_ds = model_ds.assign_coords({\"time\": vis_ds.time})"
   ]
  },
  {
   "cell_type": "code",
   "execution_count": null,
   "id": "1abd7a7b",
   "metadata": {},
   "outputs": [],
   "source": [
    "gaintable = create_bandpass_table(vis_ds).pipe(with_chunks, vis_chunks)\n",
    "\n",
    "# gaintable = create_gaintable_from_visibility(vis_ds, jones_type='B', timeslice=None)"
   ]
  },
  {
   "cell_type": "markdown",
   "id": "53078783",
   "metadata": {},
   "source": [
    "## Test run_solver directly"
   ]
  },
  {
   "cell_type": "code",
   "execution_count": null,
   "id": "fbe7a9f9",
   "metadata": {},
   "outputs": [],
   "source": [
    "gaintable = run_solver(\n",
    "    vis_ds,\n",
    "    model_ds,\n",
    "    # gaintable,\n",
    "    solver=\"jones_substitution\",\n",
    "    # refant,\n",
    "    niter=50,\n",
    "    # phase_only,\n",
    "    # tol,\n",
    "    # crosspol,\n",
    "    # normalise_gains,\n",
    ")"
   ]
  },
  {
   "cell_type": "code",
   "execution_count": null,
   "id": "7344f194",
   "metadata": {},
   "outputs": [],
   "source": [
    "gaintable.load()"
   ]
  },
  {
   "cell_type": "markdown",
   "id": "1d820644",
   "metadata": {},
   "source": [
    "### Export gaintable to h5parm"
   ]
  },
  {
   "cell_type": "code",
   "execution_count": null,
   "id": "4682ff88",
   "metadata": {},
   "outputs": [],
   "source": [
    "from ska_sdp_instrumental_calibration.data_managers.data_export.export_to_h5parm import (\n",
    "    export_gaintable_to_h5parm,\n",
    ")\n",
    "\n",
    "export_gaintable_to_h5parm(gaintable, \"actual_bandpass_stage.h5parm\")"
   ]
  }
 ],
 "metadata": {
  "kernelspec": {
   "display_name": "ska-sdp-instrumental-calibration-vujiG8jS-py3.11",
   "language": "python",
   "name": "python3"
  },
  "language_info": {
   "codemirror_mode": {
    "name": "ipython",
    "version": 3
   },
   "file_extension": ".py",
   "mimetype": "text/x-python",
   "name": "python",
   "nbconvert_exporter": "python",
   "pygments_lexer": "ipython3",
   "version": "3.11.12"
  }
 },
 "nbformat": 4,
 "nbformat_minor": 5
}
