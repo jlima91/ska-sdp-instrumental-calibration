{
 "cells": [
  {
   "cell_type": "markdown",
   "id": "6df50480",
   "metadata": {},
   "source": [
    "# Validate Bandpass Polarisation Stage"
   ]
  },
  {
   "cell_type": "markdown",
   "id": "e087f630",
   "metadata": {},
   "source": [
    "## Imports"
   ]
  },
  {
   "cell_type": "code",
   "execution_count": null,
   "id": "9b32f07a",
   "metadata": {},
   "outputs": [],
   "source": [
    "from ska_sdp_instrumental_calibration.data_managers.dask_wrappers import run_solver\n",
    "\n",
    "from ska_sdp_instrumental_calibration.data_managers.visibility import (\n",
    "    read_dataset_from_zarr,\n",
    "    write_ms_to_zarr,\n",
    ")\n",
    "from ska_sdp_instrumental_calibration.workflow.utils import (\n",
    "    create_bandpass_table,\n",
    "    with_chunks,\n",
    ")\n",
    "from ska_sdp_datamodels.calibration.calibration_create import (\n",
    "    create_gaintable_from_visibility,\n",
    ")\n",
    "\n",
    "from ska_sdp_instrumental_calibration.data_managers.data_export.export_to_h5parm import (\n",
    "    export_gaintable_to_h5parm,\n",
    ")\n",
    "\n",
    "from ska_sdp_instrumental_calibration.data_managers.dask_wrappers import (\n",
    "    apply_gaintable_to_dataset,\n",
    "    prediction_central_beams,\n",
    ")\n",
    "\n",
    "from utils import (\n",
    "    get_frequency,\n",
    "    get_polarisations,\n",
    "    get_antennas,\n",
    "    get_values,\n",
    "    REMOVE_LAST_ITEM,\n",
    ")\n",
    "\n",
    "import shutil\n",
    "\n",
    "import dask\n",
    "\n",
    "import numpy as np\n",
    "import xarray as xr\n",
    "\n",
    "import os\n",
    "from typing import Literal\n",
    "\n",
    "import glob\n",
    "import h5py\n",
    "\n",
    "%matplotlib inline\n",
    "import matplotlib.pyplot as plt\n",
    "\n",
    "import pandas\n",
    "from ska_sdp_instrumental_calibration.data_managers.visibility import (\n",
    "    load_ms_as_dataset_with_time_chunks,\n",
    ")"
   ]
  },
  {
   "cell_type": "code",
   "execution_count": null,
   "id": "1cfa5a55",
   "metadata": {},
   "outputs": [],
   "source": [
    "# If you need to connect to a dask client\n",
    "from distributed import Client\n",
    "\n",
    "scheduler = \"localhost:34567\"\n",
    "\n",
    "client = Client(scheduler)"
   ]
  },
  {
   "cell_type": "markdown",
   "id": "26f55981",
   "metadata": {},
   "source": [
    "## Generate data"
   ]
  },
  {
   "cell_type": "markdown",
   "id": "204f82f7",
   "metadata": {},
   "source": [
    "We use the scripts stored in `scripts/ska_low_sim` to generate the data.\n",
    "Information about how to use the scripts is present in this [confluence page](https://confluence.skatelescope.org/x/eZHMF)."
   ]
  },
  {
   "cell_type": "markdown",
   "id": "6bc71ddf",
   "metadata": {},
   "source": [
    "### Simulation config"
   ]
  },
  {
   "cell_type": "markdown",
   "id": "b0afd084",
   "metadata": {},
   "source": [
    "The following is the custom configuration used for simulation (further referred to as `custom_sim.yaml`)"
   ]
  },
  {
   "cell_type": "markdown",
   "id": "2b69a13b",
   "metadata": {},
   "source": [
    "```yaml\n",
    "scenario: \"low40s-model\"          # Scenario name (used for output folder prefix)\n",
    "\n",
    "# ===============================\n",
    "# Global simulation parameters\n",
    "# ===============================\n",
    "\n",
    "n_stations: 40                                         # Number of stations\n",
    "tel_model: \"./SKA-Low_AA2_40S_rigid-rotation_model.tm\" # Telescope model directory\n",
    "\n",
    "simulation_start_frequency_hz: 123.0e6                  # Start frequency (Hz)\n",
    "simulation_end_frequency_hz: 153.0e6                    # End frequency (Hz)\n",
    "correlated_channel_bandwidth_hz: 21.70138888888889e3    # Channel width (Hz)\n",
    "\n",
    "observing_time_mins: 10                              # Observation duration (minutes)\n",
    "sampling_time_sec: 3.3973862400000003                   # Dump/integration time (seconds)\n",
    "\n",
    "fields:\n",
    "  EoR2:\n",
    "    Cal1:\n",
    "      ra_deg: 197.914612\n",
    "      dec_deg: -22.277973\n",
    "      scan_id_start: 300\n",
    "      transit_time: \"2000-01-03 22:33:30.000\"\n",
    "\n",
    "# ==================================\n",
    "# Options for generate_gaintable.py\n",
    "# ==================================\n",
    "\n",
    "generate_gaintable:\n",
    "  output_gaintable: &gen_gaintable \"./gaintables/custom_gaintable.h5\"\n",
    "\n",
    "  spline_data_path: \"./SKA_Low_AA2_SP5175_spline_data.npz\" # Bandpass spline data file\n",
    "  station_offset: true              # Apply per-station amplitude/phase offsets\n",
    "  time_variant: true                # Apply time-dependent effects\n",
    "\n",
    "  rfi: false                        # Inject RFI band\n",
    "  rfi_start_freq_hz: 154.25347222228538e6        # Hz\n",
    "  rfi_end_freq_hz: 159.8090277778474e6           # Hz\n",
    "\n",
    "  plot: true                        # Generate diagnostic plots\n",
    "  plot_output_dir: \"./gaintables/generation_plots/\"\n",
    "\n",
    "# ===============================\n",
    "# Options for run_sim.py\n",
    "# ===============================\n",
    "\n",
    "run_sim:\n",
    "  oskar_sif: \"./OSKAR-2.11.1-Python3.sif\" # Path to OSKAR Singularity image\n",
    "\n",
    "  # GLEAM sky model. Optional. Comment to disable.\n",
    "  gleam_file: \"./sky-models/GLEAM_EGC.fits\" # GLEAM catalogue FITS file\n",
    "  field_radius_deg: 10.0            # Radius of field of view (degrees)\n",
    "\n",
    "  # Corruptions to be applied. All are optional. Comment to disable.\n",
    "  # gaintable: *gen_gaintable           # Gaintable containing bandpass corruptions\n",
    "  # cable_delay: \"./cable_delays/cable_length_error_40s.txt\" # Cable delay error file\n",
    "  # tec_screen: \"./tec/calibrator_iono_tec.fits\" # Ionospheric TEC screen FITS\n",
    "\n",
    "  # Imaging parameters using wsclean. Optional. Comment to disable.\n",
    "  create_dirty_image: true          # Whether to run wsclean imaging\n",
    "  image_size: 1024                  # Image size (pixels)\n",
    "  pixel_size: \"2arcsec\"             # Pixel size (angular units)\n",
    "\n",
    "  # Extra parameters to pass directly to run_oskar.py\n",
    "  run_oskar_extra_params: \"--use-gpus --double-precision\"\n",
    "  ```"
   ]
  },
  {
   "cell_type": "markdown",
   "id": "399a0000",
   "metadata": {},
   "source": [
    "### Overview of steps followed"
   ]
  },
  {
   "cell_type": "markdown",
   "id": "bf811f6c",
   "metadata": {},
   "source": [
    "Assuming the you have followed steps on the [confluence page](https://confluence.skatelescope.org/x/eZHMF) to get the data and setup python environment, here are the general steps to follow to simulate the data needed to run this script:"
   ]
  },
  {
   "cell_type": "markdown",
   "id": "19b62318",
   "metadata": {},
   "source": [
    "1. Create custom gaintable using the the above config and generate_gaintable script\n",
    "\n",
    "    ```bash\n",
    "    python3 generate_gaintable.py custom_sim.yaml\n",
    "    ```\n",
    "\n",
    "2. Convert gaintable to DP3 h5parm file\n",
    "\n",
    "    ```bash\n",
    "    python3 utils/h5parm_from_oskar_gains.py custom_sim.yaml \"./gaintables/custom_gaintable.h5\"\n",
    "    ```\n",
    "\n",
    "3. Create \"model\" visibilities\n",
    "\n",
    "    ```bash\n",
    "    python run_sim.py custom_sim.yaml\n",
    "    ```\n",
    "\n",
    "4. Apply the corruptions using DP3 to create corrupted visibilities\n",
    "\n",
    "    ```bash\n",
    "    msin=\"path_to_the_model_visibilities\"\n",
    "    parmdb=\"./gaintables/custom_gaintable.h5parm\"\n",
    "    mout=\"corrupted_visibilities.ms\"\n",
    "    DP3_CMD=${DP3_CMD:-\"DP3\"}\n",
    "\n",
    "    ${DP3_CMD} steps=\"[applycal]\" msin=${msin}\\\n",
    "\t  applycal.invert=False applycal.parmdb=${parmdb}\\\n",
    "\t  applycal.missingantennabehavior=flag applycal.updateweights=True\\\n",
    "\t  applycal.steps=\"[phase, amplitude]\" applycal.phase.correction=phase000\\\n",
    "\t  applycal.amplitude.correction=amplitude000 msout=${msout}\n",
    "    ```\n"
   ]
  },
  {
   "cell_type": "markdown",
   "id": "dfcf4f61",
   "metadata": {},
   "source": [
    "## Setup common parameters"
   ]
  },
  {
   "cell_type": "code",
   "execution_count": null,
   "id": "473b1e66",
   "metadata": {},
   "outputs": [],
   "source": [
    "# Set these paths to the simulated data generated in previous steps\n",
    "vis_ms = \"/home/ska/Work/data-simulation/only-bandpass-simulation/visibility.scan-300.corrupt.ms\"\n",
    "model_ms = (\n",
    "    \"/home/ska/Work/data-simulation/only-bandpass-simulation/visibility.scan-300.ms\"\n",
    ")\n",
    "sim_gaintable = \"/home/ska/Work/data-simulation/only-bandpass-simulation/customgaintable/gain_model_cal.h5\"\n",
    "dp3_gaintable = \"/home/ska/Work/data-simulation/only-bandpass-simulation/customgaintable/gain_model_cal_dp3.h5parm\"\n",
    "\n",
    "# Zarr conversion params\n",
    "nchannels_per_chunk = 32\n",
    "ntimes_per_ms_chunk = 16\n",
    "\n",
    "# predict stage related parameters\n",
    "_cli_args_ = {\"input\": vis_ms}\n",
    "beam_type = \"everybeam\"\n",
    "normalise_at_beam_centre = True\n",
    "eb_coeffs = \"/home/ska/Work/data/INST/sim/coeffs\"\n",
    "eb_ms = vis_ms\n",
    "lsm_csv_path = \"/home/ska/Work/data/INST/lg3/sky_model_cal.csv\"\n",
    "fov = 10.0\n",
    "flux_limit = 1.0\n",
    "alpha0 = -0.78\n",
    "\n",
    "# Solver params\n",
    "solver: str = \"gain_substitution\"\n",
    "refant: int = 0\n",
    "niter: int = 200\n",
    "phase_only: bool = False\n",
    "tol: float = 1e-06\n",
    "crosspol: bool = False\n",
    "normalise_gains: str = None\n",
    "jones_type: Literal[\"T\", \"G\", \"B\"] = \"B\"\n",
    "timeslice: float = None\n",
    "\n",
    "run_solver_params = dict(\n",
    "    solver=solver,\n",
    "    refant=refant,\n",
    "    niter=niter,\n",
    "    phase_only=phase_only,\n",
    "    tol=tol,\n",
    "    crosspol=crosspol,\n",
    "    normalise_gains=normalise_gains,\n",
    "    jones_type=jones_type,\n",
    "    timeslice=timeslice,\n",
    ")\n",
    "\n",
    "working_dir = os.getcwd()\n",
    "cache_dir = f\"{working_dir}/cache\""
   ]
  },
  {
   "cell_type": "code",
   "execution_count": null,
   "id": "fa272524",
   "metadata": {},
   "outputs": [],
   "source": [
    "os.environ[\"PATH\"] = (\n",
    "    f\"/home/ska/spack/opt/spack/linux-ubuntu22.04-x86_64_v3/gcc-11.4.0/dp3-6.5.1-ihprmbbwfxaeb6bu73kvoyxvydmd3qq7/bin:/home/ska/spack/opt/spack/linux-ubuntu22.04-x86_64_v3/gcc-11.4.0/wsclean-3.6.20250630-cd2552n6cesup3jr3ja7vj2vgggmbyfp/bin/:{os.environ['PATH']}\"\n",
    ")"
   ]
  },
  {
   "cell_type": "code",
   "execution_count": null,
   "id": "06e2cd91",
   "metadata": {},
   "outputs": [],
   "source": [
    "# Common dimensions across zarr and loaded visibility dataset\n",
    "non_chunked_dims = {\n",
    "    dim: -1\n",
    "    for dim in [\n",
    "        \"baselineid\",\n",
    "        \"polarisation\",\n",
    "        \"spatial\",\n",
    "    ]\n",
    "}\n",
    "\n",
    "# This is chunking of the intermidiate zarr file\n",
    "zarr_chunks = {\n",
    "    **non_chunked_dims,\n",
    "    \"time\": ntimes_per_ms_chunk,\n",
    "    \"frequency\": nchannels_per_chunk,\n",
    "}\n",
    "\n",
    "# Pipeline only works on frequency chunks\n",
    "# Its expected that later stages follow same chunking pattern\n",
    "vis_chunks = {\n",
    "    **non_chunked_dims,\n",
    "    \"time\": -1,\n",
    "    \"frequency\": nchannels_per_chunk,\n",
    "}"
   ]
  },
  {
   "cell_type": "markdown",
   "id": "72116616",
   "metadata": {},
   "source": [
    "## Testing run_solver directly"
   ]
  },
  {
   "cell_type": "code",
   "execution_count": null,
   "id": "a8573baa",
   "metadata": {},
   "outputs": [],
   "source": [
    "# vis_cache_directory = f\"{working_dir}/cache/vis/\"\n",
    "# model_cache_directory = f\"{working_dir}/cache/model/\""
   ]
  },
  {
   "cell_type": "code",
   "execution_count": null,
   "id": "a9277fe8",
   "metadata": {},
   "outputs": [],
   "source": [
    "# os.makedirs(vis_cache_directory, exist_ok=True)\n",
    "# write_ms_to_zarr(vis_ms, vis_cache_directory, zarr_chunks)"
   ]
  },
  {
   "cell_type": "code",
   "execution_count": null,
   "id": "b5586332",
   "metadata": {},
   "outputs": [],
   "source": [
    "# os.makedirs(model_cache_directory, exist_ok=True)\n",
    "# write_ms_to_zarr(model_ms, model_cache_directory, zarr_chunks)"
   ]
  },
  {
   "cell_type": "markdown",
   "id": "1f05928b",
   "metadata": {},
   "source": [
    "### Load visibilities from zarr and create initial gaintable"
   ]
  },
  {
   "cell_type": "code",
   "execution_count": null,
   "id": "7e6d0798",
   "metadata": {},
   "outputs": [],
   "source": [
    "# vis_ds = read_dataset_from_zarr(vis_cache_directory, vis_chunks)\n",
    "\n",
    "# # Uncomment to read model_ds\n",
    "# model_ds = read_dataset_from_zarr(model_cache_directory, vis_chunks)\n",
    "# #Fix to ensure that time coords match\n",
    "# model_ds = model_ds.assign_coords({\"time\": vis_ds.time})"
   ]
  },
  {
   "cell_type": "code",
   "execution_count": null,
   "id": "1abd7a7b",
   "metadata": {},
   "outputs": [],
   "source": [
    "# gaintable = create_bandpass_table(vis_ds).pipe(with_chunks, vis_chunks)\n",
    "\n",
    "# # gaintable = create_gaintable_from_visibility(vis_ds, jones_type='B', timeslice=None)"
   ]
  },
  {
   "cell_type": "markdown",
   "id": "a663ea74",
   "metadata": {},
   "source": [
    "### Normalise at beam center"
   ]
  },
  {
   "cell_type": "code",
   "execution_count": null,
   "id": "52b30493",
   "metadata": {},
   "outputs": [],
   "source": [
    "# def plot_vis(\n",
    "#     vis_ds: xr.Dataset,\n",
    "#     time: int,\n",
    "#     baselineid: int,\n",
    "#     polarisation: int,\n",
    "#     figsize=(10, 6),\n",
    "#     savepath=None,\n",
    "# ):\n",
    "#     \"\"\"\n",
    "#     Plot amplitude and phase of complex visibilities from an xarray Dataset.\n",
    "\n",
    "#     Parameters\n",
    "#     ----------\n",
    "#     vis_ds : xr.Dataset\n",
    "#         Dataset containing a complex-valued DataArray named 'vis'.\n",
    "#     time : int\n",
    "#         Index along the 'time' dimension.\n",
    "#     baselineid : int\n",
    "#         Index along the 'baselineid' dimension.\n",
    "#     polarisation : int\n",
    "#         Index along the 'polarisation' dimension.\n",
    "#     figsize : tuple, optional\n",
    "#         Figure size (width, height) in inches. Default is (10, 6).\n",
    "#     savepath : str, optional\n",
    "#         If provided, saves the plot to the given path.\n",
    "#     \"\"\"\n",
    "#     # Extract the selected visibility slice\n",
    "#     vis = vis_ds.vis.isel(time=time, baselineid=baselineid, polarisation=polarisation)\n",
    "\n",
    "#     # Ensure we have a frequency dimension for the x-axis\n",
    "#     freq = vis_ds.coords.get(\"frequency\", np.arange(vis.size))\n",
    "\n",
    "#     amp = np.abs(vis)\n",
    "#     phase = np.angle(vis, deg=True)  # Convert phase to degrees\n",
    "\n",
    "#     fig, (ax1, ax2) = plt.subplots(2, 1, figsize=figsize, sharex=True)\n",
    "\n",
    "#     # Plot amplitude\n",
    "#     ax1.plot(freq, amp, color=\"tab:blue\")\n",
    "#     ax1.set_ylabel(\"Amplitude\")\n",
    "#     ax1.set_title(f\"Baseline {baselineid}, Time {time}, Pol {polarisation}\")\n",
    "\n",
    "#     # Plot phase\n",
    "#     ax2.plot(freq, phase, color=\"tab:orange\")\n",
    "#     ax2.set_ylabel(\"Phase [deg]\")\n",
    "#     ax2.set_xlabel(\"Frequency\" if \"frequency\" in vis_ds.coords else \"Channel index\")\n",
    "\n",
    "#     plt.tight_layout()\n",
    "\n",
    "#     if savepath:\n",
    "#         plt.savefig(savepath, dpi=150)\n",
    "#         plt.close(fig)\n",
    "#     else:\n",
    "#         plt.show()"
   ]
  },
  {
   "cell_type": "code",
   "execution_count": null,
   "id": "cb587b37",
   "metadata": {},
   "outputs": [],
   "source": [
    "# time = 15\n",
    "# baselineid = 50\n",
    "# polarisation = 0"
   ]
  },
  {
   "cell_type": "markdown",
   "id": "ad5a4d19",
   "metadata": {},
   "source": [
    "<!-- #### Plotting visibility before normalising -->"
   ]
  },
  {
   "cell_type": "code",
   "execution_count": null,
   "id": "39f85204",
   "metadata": {},
   "outputs": [],
   "source": [
    "# plot_vis(vis_ds, time=time, baselineid=baselineid, polarisation=polarisation)"
   ]
  },
  {
   "cell_type": "code",
   "execution_count": null,
   "id": "e755e56a",
   "metadata": {},
   "outputs": [],
   "source": [
    "# plot_vis(model_ds, time=time, baselineid=baselineid, polarisation=polarisation)"
   ]
  },
  {
   "cell_type": "markdown",
   "id": "0a8f5dfa",
   "metadata": {},
   "source": [
    "<!-- #### Normalise visibility -->"
   ]
  },
  {
   "cell_type": "code",
   "execution_count": null,
   "id": "33c73ab8",
   "metadata": {},
   "outputs": [],
   "source": [
    "# if normalise_at_beam_centre:\n",
    "#     beams = prediction_central_beams(\n",
    "#         vis_ds,\n",
    "#         beam_type=beam_type,\n",
    "#         eb_ms=eb_ms,\n",
    "#         eb_coeffs=eb_coeffs,\n",
    "#     ).persist()\n",
    "\n",
    "#     vis_ds = apply_gaintable_to_dataset(vis_ds, beams, inverse=True)\n",
    "#     model_ds = apply_gaintable_to_dataset(model_ds, beams, inverse=True)"
   ]
  },
  {
   "cell_type": "markdown",
   "id": "d595a7ba",
   "metadata": {},
   "source": [
    "<!-- #### Plotting after normalising -->"
   ]
  },
  {
   "cell_type": "code",
   "execution_count": null,
   "id": "6ee303cc",
   "metadata": {},
   "outputs": [],
   "source": [
    "# plot_vis(vis_ds, time=time, baselineid=baselineid, polarisation=polarisation)"
   ]
  },
  {
   "cell_type": "code",
   "execution_count": null,
   "id": "22e8ae95",
   "metadata": {},
   "outputs": [],
   "source": [
    "# plot_vis(model_ds, time=time, baselineid=baselineid, polarisation=polarisation)"
   ]
  },
  {
   "cell_type": "markdown",
   "id": "ba29c0ca",
   "metadata": {},
   "source": [
    "### Running calibration and exporting gaintable"
   ]
  },
  {
   "cell_type": "code",
   "execution_count": null,
   "id": "4363cf0d",
   "metadata": {},
   "outputs": [],
   "source": [
    "# output_dir = f\"{working_dir}/run_solver_{solver}_{niter}/\"\n",
    "\n",
    "# os.makedirs(output_dir, exist_ok=True)"
   ]
  },
  {
   "cell_type": "code",
   "execution_count": null,
   "id": "fbe7a9f9",
   "metadata": {},
   "outputs": [],
   "source": [
    "# gaintable = run_solver(\n",
    "#     vis_ds,\n",
    "#     model_ds,\n",
    "#     gaintable,\n",
    "#     **run_solver_params,\n",
    "# )"
   ]
  },
  {
   "cell_type": "code",
   "execution_count": null,
   "id": "4682ff88",
   "metadata": {},
   "outputs": [],
   "source": [
    "# export_task = dask.delayed(export_gaintable_to_h5parm, pure=False)(\n",
    "#     gaintable,\n",
    "#     f\"{output_dir}/gaintable.h5parm\",\n",
    "# )"
   ]
  },
  {
   "cell_type": "code",
   "execution_count": null,
   "id": "1e9fe8ad",
   "metadata": {},
   "outputs": [],
   "source": [
    "# client.compute(export_task, sync=True, optimize_graph=True)"
   ]
  },
  {
   "cell_type": "code",
   "execution_count": null,
   "id": "f074bf1b",
   "metadata": {},
   "outputs": [],
   "source": [
    "# client.restart()"
   ]
  },
  {
   "cell_type": "markdown",
   "id": "21954be2",
   "metadata": {},
   "source": [
    "## Testing bandpass_calibration stage with others"
   ]
  },
  {
   "cell_type": "markdown",
   "id": "fa2fbdd1",
   "metadata": {},
   "source": [
    "This code tests the following flow:\n",
    "\n",
    "load_data -> predict_vis -> bandpass_calibration"
   ]
  },
  {
   "cell_type": "code",
   "execution_count": null,
   "id": "217fabcc",
   "metadata": {},
   "outputs": [],
   "source": [
    "output_dir = f\"{working_dir}/bandpass_stage_{solver}_{niter}\"\n",
    "config_path = f\"{output_dir}/inst.yml\"\n",
    "\n",
    "os.makedirs(output_dir, exist_ok=True)"
   ]
  },
  {
   "cell_type": "code",
   "execution_count": null,
   "id": "34cb837c",
   "metadata": {},
   "outputs": [],
   "source": [
    "config = {\n",
    "    \"global_parameters\": {\n",
    "        \"experimental\": {\n",
    "            \"pipeline\": [\n",
    "                {\n",
    "                    \"load_data\": {\n",
    "                        \"nchannels_per_chunk\": nchannels_per_chunk,\n",
    "                        \"ntimes_per_ms_chunk\": ntimes_per_ms_chunk,\n",
    "                        \"cache_directory\": cache_dir,\n",
    "                        \"ack\": False,\n",
    "                        \"datacolumn\": \"DATA\",\n",
    "                        \"field_id\": 0,\n",
    "                        \"data_desc_id\": 0,\n",
    "                    }\n",
    "                },\n",
    "                {\n",
    "                    \"predict_vis\": {\n",
    "                        \"beam_type\": beam_type,\n",
    "                        \"normalise_at_beam_centre\": normalise_at_beam_centre,\n",
    "                        \"eb_coeffs\": eb_coeffs,\n",
    "                        \"lsm_csv_path\": lsm_csv_path,\n",
    "                        \"fov\": fov,\n",
    "                        \"flux_limit\": flux_limit,\n",
    "                        \"alpha0\": alpha0,\n",
    "                    }\n",
    "                },\n",
    "                {\n",
    "                    \"bandpass_calibration\": {\n",
    "                        \"run_solver_config\": {\n",
    "                            \"solver\": solver,\n",
    "                            \"refant\": refant,\n",
    "                            \"niter\": niter,\n",
    "                            \"phase_only\": phase_only,\n",
    "                            \"tol\": tol,\n",
    "                            \"crosspol\": crosspol,\n",
    "                            \"normalise_gains\": normalise_gains,\n",
    "                            \"timeslice\": timeslice,\n",
    "                        },\n",
    "                        \"plot_config\": {\n",
    "                            \"plot_table\": True,\n",
    "                            \"fixed_axis\": False,\n",
    "                        },\n",
    "                        \"visibility_key\": \"vis\",\n",
    "                        \"export_gaintable\": True,\n",
    "                    }\n",
    "                },\n",
    "            ]\n",
    "        }\n",
    "    }\n",
    "}\n",
    "\n",
    "import yaml\n",
    "\n",
    "with open(config_path, \"w\") as f:\n",
    "    yaml.safe_dump(config, f)"
   ]
  },
  {
   "cell_type": "code",
   "execution_count": null,
   "id": "558be180",
   "metadata": {},
   "outputs": [],
   "source": [
    "!time ska-sdp-instrumental-calibration experimental --input $vis_ms --config $config_path --dask-scheduler $scheduler --output $output_dir --no-unique-output-subdir"
   ]
  },
  {
   "cell_type": "markdown",
   "id": "c7215366",
   "metadata": {},
   "source": [
    "## Comparing h5parm files"
   ]
  },
  {
   "cell_type": "code",
   "execution_count": null,
   "id": "97b2c163",
   "metadata": {},
   "outputs": [],
   "source": [
    "output_h5_path = glob.glob(f\"{output_dir}/gaintables/bandpass.gaintable.h5*\")[0]\n",
    "\n",
    "actual_gaintable = output_h5_path"
   ]
  },
  {
   "cell_type": "code",
   "execution_count": null,
   "id": "6c710197",
   "metadata": {},
   "outputs": [],
   "source": [
    "def suppress_exception(func, *args, **kwargs):\n",
    "    try:\n",
    "        return func(*args, **kwargs)\n",
    "    except Exception as e:\n",
    "        print(e, end=\"\\n\\n\")"
   ]
  },
  {
   "cell_type": "markdown",
   "id": "a57e4b8c",
   "metadata": {},
   "source": [
    "### Compare oskar gains with DP3 gains"
   ]
  },
  {
   "cell_type": "code",
   "execution_count": null,
   "id": "c9d1707b",
   "metadata": {},
   "outputs": [],
   "source": [
    "with h5py.File(sim_gaintable) as sim_gain_f:\n",
    "    for pol_id, pol in enumerate([\"x\", \"y\"]):\n",
    "        print(f\"Amplitude for pol {pol}\")\n",
    "        suppress_exception(\n",
    "            np.testing.assert_allclose,\n",
    "            np.abs(sim_gain_f[f\"gain_{pol}pol\"]),\n",
    "            get_values(dp3_gaintable, solset=\"amplitude000\", pol=pol_id).transpose(\n",
    "                0, 2, 1\n",
    "            ),\n",
    "        )\n",
    "\n",
    "        print(f\"Phase for pol {pol}\")\n",
    "        suppress_exception(\n",
    "            np.testing.assert_allclose,\n",
    "            np.angle(sim_gain_f[f\"gain_{pol}pol\"]),\n",
    "            get_values(dp3_gaintable, solset=\"phase000\", pol=pol_id).transpose(0, 2, 1),\n",
    "        )"
   ]
  },
  {
   "cell_type": "markdown",
   "id": "6fd29609",
   "metadata": {},
   "source": [
    "### Compare actual vs DP3, by broadcasting expected DP3 gains across time"
   ]
  },
  {
   "cell_type": "code",
   "execution_count": null,
   "id": "a20f02b0",
   "metadata": {},
   "outputs": [],
   "source": [
    "pols = get_polarisations(actual_gaintable)\n",
    "parallel_hands = [\"XX\", \"YY\"]\n",
    "indices = [pols.index(item) for item in parallel_hands]\n",
    "\n",
    "\n",
    "for pol_id, pol in zip(indices, parallel_hands):\n",
    "    print(f\"Amplitude for pol {pol}\")\n",
    "\n",
    "    exp_amp = get_values(\n",
    "        dp3_gaintable,\n",
    "        solset=\"amplitude000\",\n",
    "        pol=(pol_id % 2),\n",
    "        frequency=REMOVE_LAST_ITEM,\n",
    "    )\n",
    "\n",
    "    act_amp_time0_values = get_values(\n",
    "        actual_gaintable, solset=\"amplitude000\", pol=pol_id\n",
    "    )\n",
    "    act_amp = [act_amp_time0_values for i in range(exp_amp.shape[0])]\n",
    "    act_amp = np.concatenate(act_amp)\n",
    "\n",
    "    suppress_exception(\n",
    "        np.testing.assert_allclose,\n",
    "        act_amp,\n",
    "        exp_amp,\n",
    "    )\n",
    "\n",
    "    print(f\"Phase for pol {pol}\")\n",
    "    exp_phase = get_values(\n",
    "        dp3_gaintable, solset=\"phase000\", pol=(pol_id % 2), frequency=REMOVE_LAST_ITEM\n",
    "    )\n",
    "    exp_phase = exp_phase - exp_phase[:, [refant], :]\n",
    "\n",
    "    act_phase = []\n",
    "    for i in range(exp_phase.shape[0]):\n",
    "        act_phase.append(get_values(actual_gaintable, solset=\"phase000\", pol=pol_id))\n",
    "    act_phase = np.concatenate(act_phase)\n",
    "\n",
    "    suppress_exception(\n",
    "        np.testing.assert_allclose,\n",
    "        np.degrees(act_phase),\n",
    "        np.degrees(exp_phase),\n",
    "    )"
   ]
  },
  {
   "cell_type": "markdown",
   "id": "6e27bdd8",
   "metadata": {},
   "source": [
    "### Comparing plots"
   ]
  },
  {
   "cell_type": "code",
   "execution_count": null,
   "id": "9479134a",
   "metadata": {},
   "outputs": [],
   "source": [
    "expected_gaintable = dp3_gaintable\n",
    "time_idx = 0\n",
    "antenna_idx = 20\n",
    "pol_idx = 0  # 0 for XX. or 3 for YY.\n",
    "refant = 0"
   ]
  },
  {
   "cell_type": "code",
   "execution_count": null,
   "id": "57a0674a",
   "metadata": {},
   "outputs": [],
   "source": [
    "frequency = get_frequency(actual_gaintable)\n",
    "channels = np.arange(frequency.size)\n",
    "\n",
    "pols = get_polarisations(actual_gaintable)\n",
    "stations = get_antennas(actual_gaintable)\n",
    "\n",
    "exp_amp = get_values(\n",
    "    dp3_gaintable,\n",
    "    solset=\"amplitude000\",\n",
    "    time=time_idx,\n",
    "    antenna=antenna_idx,\n",
    "    pol=pol_idx % 2,\n",
    "    frequency=REMOVE_LAST_ITEM,\n",
    ")\n",
    "\n",
    "exp_phase = get_values(\n",
    "    dp3_gaintable,\n",
    "    solset=\"phase000\",\n",
    "    time=time_idx,\n",
    "    antenna=antenna_idx,\n",
    "    pol=pol_idx % 2,\n",
    "    frequency=REMOVE_LAST_ITEM,\n",
    ")\n",
    "reference_phase = get_values(\n",
    "    dp3_gaintable,\n",
    "    solset=\"phase000\",\n",
    "    time=time_idx,\n",
    "    antenna=refant,\n",
    "    pol=pol_idx % 2,\n",
    "    frequency=REMOVE_LAST_ITEM,\n",
    ")\n",
    "exp_phase = exp_phase - reference_phase\n",
    "\n",
    "act_amp = get_values(\n",
    "    actual_gaintable,\n",
    "    solset=\"amplitude000\",\n",
    "    time=time_idx,\n",
    "    antenna=antenna_idx,\n",
    "    pol=pol_idx % 2,\n",
    ")\n",
    "act_phase = get_values(\n",
    "    actual_gaintable,\n",
    "    solset=\"phase000\",\n",
    "    time=time_idx,\n",
    "    antenna=antenna_idx,\n",
    "    pol=pol_idx % 2,\n",
    ")\n",
    "\n",
    "\n",
    "def channel_to_freq(channel):\n",
    "    return np.interp(channel, np.arange(len(frequency)), frequency)\n",
    "\n",
    "\n",
    "def freq_to_channel(freq):\n",
    "    return np.interp(freq, frequency, np.arange(len(frequency)))\n",
    "\n",
    "\n",
    "fig = plt.figure(layout=\"constrained\", figsize=(18, 9))\n",
    "amp_ax, phase_ax = fig.subplots(nrows=1, ncols=2)\n",
    "\n",
    "amp_ax.scatter(channels, act_amp, label=\"Actual\")\n",
    "amp_ax.scatter(channels, exp_amp, label=\"Expected\")\n",
    "amp_ax.set_ylabel(\"Amplitude\")\n",
    "amp_ax.set_xlabel(\"Channel\")\n",
    "amp_ax.secondary_xaxis(\n",
    "    \"top\",\n",
    "    functions=(channel_to_freq, freq_to_channel),\n",
    ").set_xlabel(\"Frequency [MHz]\")\n",
    "\n",
    "phase_ax.scatter(channels, np.rad2deg(act_phase), label=\"Actual\")\n",
    "phase_ax.scatter(channels, np.rad2deg(exp_phase), label=\"Expected\")\n",
    "phase_ax.set_ylabel(\"Phase (degree)\")\n",
    "amp_ax.set_xlabel(\"Channel\")\n",
    "phase_ax.secondary_xaxis(\n",
    "    \"top\",\n",
    "    functions=(channel_to_freq, freq_to_channel),\n",
    ").set_xlabel(\"Frequency [MHz]\")\n",
    "\n",
    "primary_axes = amp_ax\n",
    "handles, labels = primary_axes.get_legend_handles_labels()\n",
    "fig.legend(handles, labels, loc=\"outside upper right\")\n",
    "\n",
    "plt.show()\n",
    "plt.close(fig)"
   ]
  },
  {
   "cell_type": "markdown",
   "id": "e5fea801",
   "metadata": {},
   "source": [
    "## Generate images"
   ]
  },
  {
   "cell_type": "code",
   "execution_count": null,
   "id": "b639688e",
   "metadata": {},
   "outputs": [],
   "source": [
    "# Resolve wsclean / DP3 commands (use env vars if set)\n",
    "\n",
    "wsclean_cmd = os.environ.get(\"WSCLEAN_CMD\", \"wsclean\")\n",
    "# Early check: wsclean must exist\n",
    "if not shutil.which(wsclean_cmd):\n",
    "    raise Exception(\n",
    "        f\"wsclean command not found (looked for '{wsclean_cmd}'). \"\n",
    "        \"Either add wsclean to PATH, or set WSCLEAN_CMD environment variable pointing to the executable.\"\n",
    "    )\n",
    "\n",
    "dp3_cmd = os.environ.get(\"DP3_CMD\", \"DP3\")\n",
    "# Early check: DP3 must exist\n",
    "if not shutil.which(dp3_cmd):\n",
    "    raise Exception(\n",
    "        f\"DP3 command not found (looked for '{dp3_cmd}'). \"\n",
    "        \"Either add DP3 to PATH, or set DP3_CMD environment variable pointing to the executable.\"\n",
    "    )"
   ]
  },
  {
   "cell_type": "code",
   "execution_count": null,
   "id": "b3bdda82",
   "metadata": {},
   "outputs": [],
   "source": [
    "image_output_dir = f\"{output_dir}/images\"\n",
    "os.makedirs(image_output_dir, exist_ok=True)"
   ]
  },
  {
   "cell_type": "code",
   "execution_count": null,
   "id": "f9387357",
   "metadata": {},
   "outputs": [],
   "source": [
    "!cd $image_output_dir ; bash ../../../../scripts/clean-with-gains -i $vis_ms -g $actual_gaintable -size 512 512 -scale 2arcsec &> log.txt"
   ]
  },
  {
   "cell_type": "markdown",
   "id": "4d2c9839",
   "metadata": {},
   "source": [
    "### Plotting visibility amplitude vs frequency for all baselines of antenna"
   ]
  },
  {
   "cell_type": "code",
   "execution_count": null,
   "id": "5e199a4b",
   "metadata": {},
   "outputs": [],
   "source": [
    "corrected_ms_path = glob.glob(f\"{image_output_dir}/corrected.ms\")[0]"
   ]
  },
  {
   "cell_type": "code",
   "execution_count": null,
   "id": "af441f3d",
   "metadata": {},
   "outputs": [],
   "source": [
    "time_idx = 0\n",
    "antenna_idx = 10\n",
    "pol_idx = 0  # XX. or 3 for YY.\n",
    "refant = 0"
   ]
  },
  {
   "cell_type": "code",
   "execution_count": null,
   "id": "2dec888d",
   "metadata": {},
   "outputs": [],
   "source": [
    "correct_vis = load_ms_as_dataset_with_time_chunks(\n",
    "    corrected_ms_path, zarr_chunks[\"time\"]\n",
    ")\n",
    "\n",
    "nantennas = correct_vis.configuration.id.size\n",
    "\n",
    "vis_baseline_indices = pandas.MultiIndex.from_arrays(\n",
    "    np.triu_indices(nantennas, k=0), names=(\"antenna1\", \"antenna2\")\n",
    ")\n",
    "antenna_idx_to_baselines_idx = [\n",
    "    (other, antenna_idx) for other in range(antenna_idx)\n",
    "] + [(antenna_idx, other) for other in range(antenna_idx, nantennas)]\n",
    "baseline_idx = np.array(\n",
    "    [vis_baseline_indices.get_loc(indices) for indices in antenna_idx_to_baselines_idx]\n",
    ")\n",
    "\n",
    "data_to_plot = correct_vis.vis.isel(\n",
    "    time=time_idx, baselineid=baseline_idx, polarisation=pol_idx\n",
    ")\n",
    "data_to_plot.load()\n",
    "\n",
    "amp = np.abs(data_to_plot)\n",
    "\n",
    "fig = plt.figure(layout=\"constrained\", figsize=(18, 9))\n",
    "\n",
    "for idx, bl in enumerate(antenna_idx_to_baselines_idx):\n",
    "    if idx % 5 == 0:\n",
    "        plt.plot(amp.isel(baselineid=idx), label=f\"{bl[0]}-{bl[1]}\")\n",
    "\n",
    "plt.xlabel(\"Frequency Channel\")\n",
    "plt.ylabel(\"Amplitude\")\n",
    "plt.title(f\"Amp vs Freq for Antenna {antenna_idx}\")\n",
    "plt.legend()\n",
    "plt.grid(True)\n",
    "plt.show()\n",
    "plt.close(fig)"
   ]
  },
  {
   "cell_type": "code",
   "execution_count": null,
   "id": "400d888f",
   "metadata": {},
   "outputs": [],
   "source": []
  }
 ],
 "metadata": {
  "kernelspec": {
   "display_name": "ska-sdp-instrumental-calibration-vujiG8jS-py3.10",
   "language": "python",
   "name": "python3"
  },
  "language_info": {
   "codemirror_mode": {
    "name": "ipython",
    "version": 3
   },
   "file_extension": ".py",
   "mimetype": "text/x-python",
   "name": "python",
   "nbconvert_exporter": "python",
   "pygments_lexer": "ipython3",
   "version": "3.10.12"
  }
 },
 "nbformat": 4,
 "nbformat_minor": 5
}
